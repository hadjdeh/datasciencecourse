{
 "cells": [
  {
   "cell_type": "markdown",
   "metadata": {},
   "source": [
    "### Проект: Анализ данных в задаче кредитного скоринга"
   ]
  },
  {
   "cell_type": "code",
   "execution_count": 1,
   "metadata": {},
   "outputs": [],
   "source": [
    "import pandas as pd\n",
    "import numpy as np\n",
    "import seaborn as sns\n",
    "import matplotlib\n",
    "import scipy\n",
    "from scipy import stats\n",
    "from statsmodels.stats.weightstats import _zconfint_generic, _tconfint_generic\n",
    "import statistics\n",
    "import itertools\n",
    "from statsmodels.stats.proportion import proportion_confint\n"
   ]
  },
  {
   "cell_type": "code",
   "execution_count": 2,
   "metadata": {},
   "outputs": [
    {
     "name": "stdout",
     "output_type": "stream",
     "text": [
      "Populating the interactive namespace from numpy and matplotlib\n"
     ]
    }
   ],
   "source": [
    "%pylab inline"
   ]
  },
  {
   "cell_type": "code",
   "execution_count": 4,
   "metadata": {},
   "outputs": [],
   "source": [
    "DATA_=pd.read_csv('credit_card_default_analysis.csv')"
   ]
  },
  {
   "cell_type": "markdown",
   "metadata": {},
   "source": [
    "#### Значения признаков"
   ]
  },
  {
   "cell_type": "markdown",
   "metadata": {},
   "source": [
    "<br><b>LIMIT_BALЮ</b>: размер кредитного лимита (в том числе и на семью клиента)\n",
    "<br><b>SEX</b>: пол клиента (1 = мужской, 2 = женский )\n",
    "<br><b>EDUCATION</b>: образование (0 = доктор, 1 = магистр; 2 = бакалавр; 3 = выпускник школы; 4 = начальное образование; 5= прочее; 6 = нет данных ).\n",
    "<br><b>MARRIAGE</b>: (0 = отказываюсь отвечать; 1 = замужем/женат; 2 = холост; 3 = нет данных).\n",
    "<br><b>AGE</b>: возраст в годах\n",
    "<br><b>PAY_0 - PAY_6</b>: История прошлых платежей по кредиту. PAY_6 - платеж в апреле, ... Pay_0 - платеж в сентябре. Платеж = (0 = исправный платеж, 1=задержка в один месяц, 2=задержка в 2 месяца ...)\n",
    "<br><b>BILL_AMT1 - BILL_AMT6</b>: задолженность, BILL_AMT6 - на апрель, BILL_AMT1 - на сентябрь\n",
    "<br><b>PAY_AMT1 - PAY_AMT6</b>: сумма уплаченная в PAY_AMT6 - апреле, ..., PAY_AMT1 - сентябре\n",
    "<br><b>default</b> - индикатор невозврата денежных средств"
   ]
  },
  {
   "cell_type": "code",
   "execution_count": 5,
   "metadata": {},
   "outputs": [
    {
     "data": {
      "text/html": [
       "<div>\n",
       "<style scoped>\n",
       "    .dataframe tbody tr th:only-of-type {\n",
       "        vertical-align: middle;\n",
       "    }\n",
       "\n",
       "    .dataframe tbody tr th {\n",
       "        vertical-align: top;\n",
       "    }\n",
       "\n",
       "    .dataframe thead th {\n",
       "        text-align: right;\n",
       "    }\n",
       "</style>\n",
       "<table border=\"1\" class=\"dataframe\">\n",
       "  <thead>\n",
       "    <tr style=\"text-align: right;\">\n",
       "      <th></th>\n",
       "      <th>ID</th>\n",
       "      <th>LIMIT_BAL</th>\n",
       "      <th>SEX</th>\n",
       "      <th>EDUCATION</th>\n",
       "      <th>MARRIAGE</th>\n",
       "      <th>AGE</th>\n",
       "      <th>PAY_0</th>\n",
       "      <th>PAY_2</th>\n",
       "      <th>PAY_3</th>\n",
       "      <th>PAY_4</th>\n",
       "      <th>...</th>\n",
       "      <th>BILL_AMT4</th>\n",
       "      <th>BILL_AMT5</th>\n",
       "      <th>BILL_AMT6</th>\n",
       "      <th>PAY_AMT1</th>\n",
       "      <th>PAY_AMT2</th>\n",
       "      <th>PAY_AMT3</th>\n",
       "      <th>PAY_AMT4</th>\n",
       "      <th>PAY_AMT5</th>\n",
       "      <th>PAY_AMT6</th>\n",
       "      <th>default</th>\n",
       "    </tr>\n",
       "  </thead>\n",
       "  <tbody>\n",
       "    <tr>\n",
       "      <th>0</th>\n",
       "      <td>1</td>\n",
       "      <td>20000</td>\n",
       "      <td>2</td>\n",
       "      <td>2</td>\n",
       "      <td>1</td>\n",
       "      <td>24</td>\n",
       "      <td>2</td>\n",
       "      <td>2</td>\n",
       "      <td>0</td>\n",
       "      <td>0</td>\n",
       "      <td>...</td>\n",
       "      <td>0</td>\n",
       "      <td>0</td>\n",
       "      <td>0</td>\n",
       "      <td>0</td>\n",
       "      <td>689</td>\n",
       "      <td>0</td>\n",
       "      <td>0</td>\n",
       "      <td>0</td>\n",
       "      <td>0</td>\n",
       "      <td>1</td>\n",
       "    </tr>\n",
       "    <tr>\n",
       "      <th>1</th>\n",
       "      <td>2</td>\n",
       "      <td>120000</td>\n",
       "      <td>2</td>\n",
       "      <td>2</td>\n",
       "      <td>2</td>\n",
       "      <td>26</td>\n",
       "      <td>0</td>\n",
       "      <td>2</td>\n",
       "      <td>0</td>\n",
       "      <td>0</td>\n",
       "      <td>...</td>\n",
       "      <td>3272</td>\n",
       "      <td>3455</td>\n",
       "      <td>3261</td>\n",
       "      <td>0</td>\n",
       "      <td>1000</td>\n",
       "      <td>1000</td>\n",
       "      <td>1000</td>\n",
       "      <td>0</td>\n",
       "      <td>2000</td>\n",
       "      <td>1</td>\n",
       "    </tr>\n",
       "    <tr>\n",
       "      <th>2</th>\n",
       "      <td>3</td>\n",
       "      <td>90000</td>\n",
       "      <td>2</td>\n",
       "      <td>2</td>\n",
       "      <td>2</td>\n",
       "      <td>34</td>\n",
       "      <td>0</td>\n",
       "      <td>0</td>\n",
       "      <td>0</td>\n",
       "      <td>0</td>\n",
       "      <td>...</td>\n",
       "      <td>14331</td>\n",
       "      <td>14948</td>\n",
       "      <td>15549</td>\n",
       "      <td>1518</td>\n",
       "      <td>1500</td>\n",
       "      <td>1000</td>\n",
       "      <td>1000</td>\n",
       "      <td>1000</td>\n",
       "      <td>5000</td>\n",
       "      <td>0</td>\n",
       "    </tr>\n",
       "    <tr>\n",
       "      <th>3</th>\n",
       "      <td>4</td>\n",
       "      <td>50000</td>\n",
       "      <td>2</td>\n",
       "      <td>2</td>\n",
       "      <td>1</td>\n",
       "      <td>37</td>\n",
       "      <td>0</td>\n",
       "      <td>0</td>\n",
       "      <td>0</td>\n",
       "      <td>0</td>\n",
       "      <td>...</td>\n",
       "      <td>28314</td>\n",
       "      <td>28959</td>\n",
       "      <td>29547</td>\n",
       "      <td>2000</td>\n",
       "      <td>2019</td>\n",
       "      <td>1200</td>\n",
       "      <td>1100</td>\n",
       "      <td>1069</td>\n",
       "      <td>1000</td>\n",
       "      <td>0</td>\n",
       "    </tr>\n",
       "    <tr>\n",
       "      <th>4</th>\n",
       "      <td>5</td>\n",
       "      <td>50000</td>\n",
       "      <td>1</td>\n",
       "      <td>2</td>\n",
       "      <td>1</td>\n",
       "      <td>57</td>\n",
       "      <td>0</td>\n",
       "      <td>0</td>\n",
       "      <td>0</td>\n",
       "      <td>0</td>\n",
       "      <td>...</td>\n",
       "      <td>20940</td>\n",
       "      <td>19146</td>\n",
       "      <td>19131</td>\n",
       "      <td>2000</td>\n",
       "      <td>36681</td>\n",
       "      <td>10000</td>\n",
       "      <td>9000</td>\n",
       "      <td>689</td>\n",
       "      <td>679</td>\n",
       "      <td>0</td>\n",
       "    </tr>\n",
       "  </tbody>\n",
       "</table>\n",
       "<p>5 rows × 25 columns</p>\n",
       "</div>"
      ],
      "text/plain": [
       "   ID  LIMIT_BAL  SEX  EDUCATION  MARRIAGE  AGE  PAY_0  PAY_2  PAY_3  PAY_4  \\\n",
       "0   1      20000    2          2         1   24      2      2      0      0   \n",
       "1   2     120000    2          2         2   26      0      2      0      0   \n",
       "2   3      90000    2          2         2   34      0      0      0      0   \n",
       "3   4      50000    2          2         1   37      0      0      0      0   \n",
       "4   5      50000    1          2         1   57      0      0      0      0   \n",
       "\n",
       "    ...     BILL_AMT4  BILL_AMT5  BILL_AMT6  PAY_AMT1  PAY_AMT2  PAY_AMT3  \\\n",
       "0   ...             0          0          0         0       689         0   \n",
       "1   ...          3272       3455       3261         0      1000      1000   \n",
       "2   ...         14331      14948      15549      1518      1500      1000   \n",
       "3   ...         28314      28959      29547      2000      2019      1200   \n",
       "4   ...         20940      19146      19131      2000     36681     10000   \n",
       "\n",
       "   PAY_AMT4  PAY_AMT5  PAY_AMT6  default  \n",
       "0         0         0         0        1  \n",
       "1      1000         0      2000        1  \n",
       "2      1000      1000      5000        0  \n",
       "3      1100      1069      1000        0  \n",
       "4      9000       689       679        0  \n",
       "\n",
       "[5 rows x 25 columns]"
      ]
     },
     "execution_count": 5,
     "metadata": {},
     "output_type": "execute_result"
    }
   ],
   "source": [
    "DATA_.head()"
   ]
  },
  {
   "cell_type": "code",
   "execution_count": 6,
   "metadata": {},
   "outputs": [
    {
     "data": {
      "text/plain": [
       "Index(['ID', 'LIMIT_BAL', 'SEX', 'EDUCATION', 'MARRIAGE', 'AGE', 'PAY_0',\n",
       "       'PAY_2', 'PAY_3', 'PAY_4', 'PAY_5', 'PAY_6', 'BILL_AMT1', 'BILL_AMT2',\n",
       "       'BILL_AMT3', 'BILL_AMT4', 'BILL_AMT5', 'BILL_AMT6', 'PAY_AMT1',\n",
       "       'PAY_AMT2', 'PAY_AMT3', 'PAY_AMT4', 'PAY_AMT5', 'PAY_AMT6', 'default'],\n",
       "      dtype='object')"
      ]
     },
     "execution_count": 6,
     "metadata": {},
     "output_type": "execute_result"
    }
   ],
   "source": [
    "DATA_.columns"
   ]
  },
  {
   "cell_type": "code",
   "execution_count": 7,
   "metadata": {},
   "outputs": [
    {
     "name": "stdout",
     "output_type": "stream",
     "text": [
      "<class 'pandas.core.frame.DataFrame'>\n",
      "RangeIndex: 30000 entries, 0 to 29999\n",
      "Data columns (total 25 columns):\n",
      "ID           30000 non-null int64\n",
      "LIMIT_BAL    30000 non-null int64\n",
      "SEX          30000 non-null int64\n",
      "EDUCATION    30000 non-null int64\n",
      "MARRIAGE     30000 non-null int64\n",
      "AGE          30000 non-null int64\n",
      "PAY_0        30000 non-null int64\n",
      "PAY_2        30000 non-null int64\n",
      "PAY_3        30000 non-null int64\n",
      "PAY_4        30000 non-null int64\n",
      "PAY_5        30000 non-null int64\n",
      "PAY_6        30000 non-null int64\n",
      "BILL_AMT1    30000 non-null int64\n",
      "BILL_AMT2    30000 non-null int64\n",
      "BILL_AMT3    30000 non-null int64\n",
      "BILL_AMT4    30000 non-null int64\n",
      "BILL_AMT5    30000 non-null int64\n",
      "BILL_AMT6    30000 non-null int64\n",
      "PAY_AMT1     30000 non-null int64\n",
      "PAY_AMT2     30000 non-null int64\n",
      "PAY_AMT3     30000 non-null int64\n",
      "PAY_AMT4     30000 non-null int64\n",
      "PAY_AMT5     30000 non-null int64\n",
      "PAY_AMT6     30000 non-null int64\n",
      "default      30000 non-null int64\n",
      "dtypes: int64(25)\n",
      "memory usage: 5.7 MB\n"
     ]
    }
   ],
   "source": [
    "DATA_.info()"
   ]
  },
  {
   "cell_type": "markdown",
   "metadata": {},
   "source": [
    "### Задание №1\n",
    "\n",
    "Размер кредитного лимита (LIMIT_BAL). В двух группах, тех людей, кто вернул кредит (default = 0) и тех, кто его не вернул (default = 1) проверьте гипотезы: a) о равенстве медианных значений кредитного лимита с помощью подходящей интервальной оценки b) о равенстве распределений с помощью одного из подходящих непараметрических критериев проверки равенства средних. Значимы ли полученные результаты с практической точки зрения ?"
   ]
  },
  {
   "cell_type": "code",
   "execution_count": 8,
   "metadata": {},
   "outputs": [
    {
     "data": {
      "text/plain": [
       "array([1, 0], dtype=int64)"
      ]
     },
     "execution_count": 8,
     "metadata": {},
     "output_type": "execute_result"
    }
   ],
   "source": [
    "DATA_.default.unique()"
   ]
  },
  {
   "cell_type": "code",
   "execution_count": 9,
   "metadata": {},
   "outputs": [
    {
     "data": {
      "text/plain": [
       "0    23364\n",
       "1     6636\n",
       "Name: default, dtype: int64"
      ]
     },
     "execution_count": 9,
     "metadata": {},
     "output_type": "execute_result"
    }
   ],
   "source": [
    "DATA_.default.value_counts()"
   ]
  },
  {
   "cell_type": "code",
   "execution_count": 10,
   "metadata": {},
   "outputs": [
    {
     "data": {
      "image/png": "[encoded data removed]",
      "text/plain": [
       "<Figure size 432x288 with 1 Axes>"
      ]
     },
     "metadata": {
      "needs_background": "light"
     },
     "output_type": "display_data"
    }
   ],
   "source": [
    "sns.countplot(x='default', data=DATA_)\n",
    "pylab.title('Распределение целевого индикатора \"default\" - вернувших и не вернувших кредит ')\n",
    "pylab.show()\n"
   ]
  },
  {
   "cell_type": "code",
   "execution_count": 11,
   "metadata": {},
   "outputs": [
    {
     "name": "stdout",
     "output_type": "stream",
     "text": [
      "(23364,)\n",
      "(6636,)\n"
     ]
    }
   ],
   "source": [
    "data_LIM_0=DATA_.loc[DATA_.default==0, 'LIMIT_BAL']\n",
    "print (data_LIM_0.shape) #размер первой группы людей - вернули кредит\n",
    "data_LIM_1=DATA_.loc[DATA_.default==1, 'LIMIT_BAL']\n",
    "print (data_LIM_1.shape) #размер второй группы людей - не вернули кредит"
   ]
  },
  {
   "cell_type": "code",
   "execution_count": 12,
   "metadata": {},
   "outputs": [
    {
     "data": {
      "text/plain": [
       "count      23364.000000\n",
       "mean      178099.726074\n",
       "std       131628.359660\n",
       "min        10000.000000\n",
       "25%        70000.000000\n",
       "50%       150000.000000\n",
       "75%       250000.000000\n",
       "max      1000000.000000\n",
       "Name: LIMIT_BAL, dtype: float64"
      ]
     },
     "execution_count": 12,
     "metadata": {},
     "output_type": "execute_result"
    }
   ],
   "source": [
    "data_LIM_0.describe()"
   ]
  },
  {
   "cell_type": "code",
   "execution_count": 13,
   "metadata": {},
   "outputs": [
    {
     "data": {
      "text/plain": [
       "count      6636.000000\n",
       "mean     130109.656420\n",
       "std      115378.540571\n",
       "min       10000.000000\n",
       "25%       50000.000000\n",
       "50%       90000.000000\n",
       "75%      200000.000000\n",
       "max      740000.000000\n",
       "Name: LIMIT_BAL, dtype: float64"
      ]
     },
     "execution_count": 13,
     "metadata": {},
     "output_type": "execute_result"
    }
   ],
   "source": [
    "data_LIM_1.describe()"
   ]
  },
  {
   "cell_type": "code",
   "execution_count": 14,
   "metadata": {},
   "outputs": [
    {
     "data": {
      "image/png": "[encoded data removed]",
      "text/plain": [
       "<Figure size 1008x432 with 2 Axes>"
      ]
     },
     "metadata": {
      "needs_background": "light"
     },
     "output_type": "display_data"
    }
   ],
   "source": [
    "pylab.figure(figsize=(14,6))\n",
    "\n",
    "pylab.subplot(1,2,1)\n",
    "pylab.grid()\n",
    "pylab.hist(data_LIM_0,color = 'r')\n",
    "pylab.xlabel('LIMIT_BAL')\n",
    "pylab.ylabel('people')\n",
    "pylab.title('Распределение величины кредитного'+'\\n'+'лимита среди вернувших кредит')\n",
    "\n",
    "pylab.subplot(1,2,2)\n",
    "pylab.grid()\n",
    "pylab.hist(data_LIM_1, color = 'b')\n",
    "pylab.xlabel('LIMIT_BAL')\n",
    "pylab.ylabel('people')\n",
    "pylab.title('Распределение величины кредитного'+'\\n'+'лимита среди не вернувших кредит')\n",
    "\n",
    "pylab.show()"
   ]
  },
  {
   "cell_type": "markdown",
   "metadata": {},
   "source": [
    "### Задача 1.а"
   ]
  },
  {
   "cell_type": "markdown",
   "metadata": {},
   "source": [
    "#### Проверка гипотез\n",
    "<br>a) о равенстве медианных значений кредитного лимита с помощью подходящей <br>интервальной оценки</br>\n"
   ]
  },
  {
   "cell_type": "markdown",
   "metadata": {},
   "source": [
    "#### точечная оценка выборочных медиан"
   ]
  },
  {
   "cell_type": "code",
   "execution_count": 15,
   "metadata": {},
   "outputs": [
    {
     "name": "stdout",
     "output_type": "stream",
     "text": [
      "(23364,)\n",
      "(6636,)\n"
     ]
    }
   ],
   "source": [
    "print (data_LIM_0.shape)\n",
    "print (data_LIM_1.shape)"
   ]
  },
  {
   "cell_type": "code",
   "execution_count": 16,
   "metadata": {},
   "outputs": [
    {
     "name": "stdout",
     "output_type": "stream",
     "text": [
      "150000.0\n",
      "90000.0\n"
     ]
    }
   ],
   "source": [
    "# точечные оценки медианы\n",
    "print (np.median(data_LIM_0))\n",
    "print (np.median(data_LIM_1))"
   ]
  },
  {
   "cell_type": "markdown",
   "metadata": {},
   "source": [
    " Покажем с помощью критерий Шапиро-Уилака, что значения кредитного лимита в наших выборках распределены не $нормально$ (это наглядно видно на графиках)"
   ]
  },
  {
   "cell_type": "markdown",
   "metadata": {},
   "source": [
    "Критерий Шапиро-Уилка:\n",
    "\n",
    "$H0$:  значения кредитного лимита в наших выборках распределены нормально \n",
    "\n",
    "$H1$:  не нормально"
   ]
  },
  {
   "cell_type": "code",
   "execution_count": 17,
   "metadata": {},
   "outputs": [
    {
     "name": "stdout",
     "output_type": "stream",
     "text": [
      "Shapiro-Wilk normality test, W-statistic: 0.919726, p-value: 0.000000\n",
      "Shapiro-Wilk normality test, W-statistic: 0.854983, p-value: 0.000000\n"
     ]
    },
    {
     "name": "stderr",
     "output_type": "stream",
     "text": [
      "C:\\Users\\hadjd\\Anaconda2\\envs\\p37\\lib\\site-packages\\scipy\\stats\\morestats.py:1309: UserWarning: p-value may not be accurate for N > 5000.\n",
      "  warnings.warn(\"p-value may not be accurate for N > 5000.\")\n"
     ]
    }
   ],
   "source": [
    "print (\"Shapiro-Wilk normality test, W-statistic: %f, p-value: %f\" % stats.shapiro(data_LIM_0))\n",
    "print (\"Shapiro-Wilk normality test, W-statistic: %f, p-value: %f\" % stats.shapiro(data_LIM_1))"
   ]
  },
  {
   "cell_type": "markdown",
   "metadata": {},
   "source": [
    "Уровень значимсоти полученный с помощью критерия ШУ для обеих групп равен 0, следовательно\n",
    "можно отклонить 0-ую гипотезу о нормальности распределения исходных выборок на уровне значимости p=0. (но нужно иметь в виду, что сам метод ШУ имеет встроенные ограничения уровня применимости, при N>5000, точность p может снижаться; дополнительную проверку не проводим, т.к. то, что распределения не имеют нормального характера очевидно из исходных графиков)\n",
    "Следовательно для получения интервальной оценки и проверки 0-гипотезы мы не можем применять t-критерий Стьюдента. Воспользуемся bootstrap."
   ]
  },
  {
   "cell_type": "markdown",
   "metadata": {},
   "source": [
    "#### интервальные оценки для медианы с помощью bootstrap"
   ]
  },
  {
   "cell_type": "markdown",
   "metadata": {},
   "source": [
    "Чтобы построить доверительный интервал для любой статистики нужно знать ее\n",
    "<b>выборочные распределение</b>, которое мы можем получить с помощью метода bootstrap."
   ]
  },
  {
   "cell_type": "code",
   "execution_count": 18,
   "metadata": {},
   "outputs": [],
   "source": [
    "def get_bootstrap_samples(data, n_samples):\n",
    "    indices = np.random.randint(0, len(data), (n_samples, len(data)))\n",
    "    samples = data[indices]\n",
    "    return samples\n",
    "# мы хотим сгенерировать заданное количество подвыборок (n_samples)\n",
    "# из исходноый выборки, которую передаем в виде аргумента data\n",
    "# подвыборки генерируем в виде индексов из исходного доступного диапазона"
   ]
  },
  {
   "cell_type": "code",
   "execution_count": 19,
   "metadata": {},
   "outputs": [],
   "source": [
    "def stat_intervals(stat, alpha):\n",
    "    boundaries = np.percentile(stat, [100 * alpha / 2., 100 * (1 - alpha / 2.)])\n",
    "    return boundaries\n",
    "# функция, считающая интервальную оценку статистики"
   ]
  },
  {
   "cell_type": "code",
   "execution_count": 20,
   "metadata": {},
   "outputs": [
    {
     "name": "stdout",
     "output_type": "stream",
     "text": [
      "95% доверительный интервал для медианной оценки кредитного лимита для 1ой группы людей: [150000. 150000.]\n",
      "95% доверительный интервал для медианной оценки кредитного лимита для 2ой группы людей: [80000. 90000.]\n"
     ]
    }
   ],
   "source": [
    "np.random.seed(0)\n",
    "\n",
    "data_LIM_0_median_scores = list(map(np.median, get_bootstrap_samples(data_LIM_0.values, 10000)))\n",
    "data_LIM_1_median_scores = list(map(np.median, get_bootstrap_samples(data_LIM_1.values, 10000)))\n",
    "\n",
    "print(\"95% доверительный интервал для медианной оценки кредитного лимита для 1ой группы людей:\",\n",
    "      stat_intervals(data_LIM_0_median_scores, 0.05) )\n",
    "print(\"95% доверительный интервал для медианной оценки кредитного лимита для 2ой группы людей:\",  \n",
    "      stat_intervals(data_LIM_1_median_scores, 0.05))"
   ]
  },
  {
   "cell_type": "markdown",
   "metadata": {},
   "source": [
    "\n",
    "Проверим гипотезу\n",
    "\n",
    "$H0$: медианные значения кредитного лимита в первой и второй группах равны\n",
    "\n",
    "$H1$: медианные значения кредитного лимита в первой и второй группах не равны (двухстороння альетрантива)"
   ]
  },
  {
   "cell_type": "markdown",
   "metadata": {},
   "source": [
    "### Вывод 1:\n",
    "Полученные 95%-ые доверитльные интервалы для медиан не пересекаются, следовательно можно сделать вывод о том, что гипотеза H0 отвергается на уровне значимости 5%."
   ]
  },
  {
   "cell_type": "markdown",
   "metadata": {},
   "source": [
    "#### точечная оценка разности выборочных медиан"
   ]
  },
  {
   "cell_type": "code",
   "execution_count": 21,
   "metadata": {},
   "outputs": [
    {
     "name": "stdout",
     "output_type": "stream",
     "text": [
      "разница между медианами: 60000.0\n"
     ]
    }
   ],
   "source": [
    "print(\"разница между медианами:\", np.median(data_LIM_0) - np.median(data_LIM_1))"
   ]
  },
  {
   "cell_type": "markdown",
   "metadata": {},
   "source": [
    "#### интервальная оценка разности медиан"
   ]
  },
  {
   "cell_type": "code",
   "execution_count": 43,
   "metadata": {},
   "outputs": [
    {
     "name": "stdout",
     "output_type": "stream",
     "text": [
      "95% доверительный интервал для разности медиан: [60000. 70000.]\n"
     ]
    }
   ],
   "source": [
    "delta_median_scores = list(map(lambda x: x[0] - x[1], zip(data_LIM_0_median_scores, data_LIM_1_median_scores)))\n",
    "print(\"95% доверительный интервал для разности медиан:\",  stat_intervals(delta_median_scores, 0.05))"
   ]
  },
  {
   "cell_type": "markdown",
   "metadata": {},
   "source": [
    "### Вывод 2:\n",
    "<br>Также мы получили 95%-ый доверительный интервал для разности медиан, данный интервал не содержит 0, исходя из чего, мы также можем сделать вывод, что медианы не равны и отклонить гипотезу H0 на уровне значимости 5%.\n",
    "<br>\n",
    "\n"
   ]
  },
  {
   "cell_type": "markdown",
   "metadata": {},
   "source": [
    "### Задача 1.б"
   ]
  },
  {
   "cell_type": "markdown",
   "metadata": {},
   "source": [
    "#### Проверка гипотез\n",
    "<br>b) о равенстве распределений с помощью одного из подходящих непараметрических критериев проверки равенства средних.</br>\n"
   ]
  },
  {
   "cell_type": "markdown",
   "metadata": {},
   "source": [
    "\n",
    "### Ранговый критерий Манна-Уитни"
   ]
  },
  {
   "cell_type": "markdown",
   "metadata": {},
   "source": [
    "$H_0\\colon F_{X_1}(x) = F_{X_2}(x)$\n",
    "\n",
    "$H_1\\colon F_{X_1}(x) = F_{X_2}(x + \\Delta), \\Delta\\neq 0$"
   ]
  },
  {
   "cell_type": "markdown",
   "metadata": {},
   "source": [
    "Можем воспользоватсья универсальным критерием Манна-Уитни для проеверки гипотезы:\n",
    "<br><b>H0</b>: функции распределения из которых были получены выборки для 1ой и 2ой группы полностю совпадают\n",
    "<br><b>H1</b>: функции распределения из которых были получены выборки для 1ой и 2ой группы совпадают с точностбью до аддитивного параметра дельта, который не равен 0. (т.е. распределения сдвинуты друг относительно друга, следовательно не равны друг другу)"
   ]
  },
  {
   "cell_type": "code",
   "execution_count": 22,
   "metadata": {},
   "outputs": [
    {
     "data": {
      "text/plain": [
       "MannwhitneyuResult(statistic=59257217.5, pvalue=6.127742909111652e-190)"
      ]
     },
     "execution_count": 22,
     "metadata": {},
     "output_type": "execute_result"
    }
   ],
   "source": [
    "stats.mannwhitneyu(data_LIM_0, data_LIM_1)"
   ]
  },
  {
   "cell_type": "markdown",
   "metadata": {},
   "source": [
    "### Вывод"
   ]
  },
  {
   "cell_type": "markdown",
   "metadata": {},
   "source": [
    "Уровень значимости для критерия Манна-Уитни равен ≈ 6e-190, следовательно мы отклоняем 0-вую гипотезу на уровне значиомости 0.05 в пользу альтернативной, о том, что распределения не равны."
   ]
  },
  {
   "cell_type": "markdown",
   "metadata": {},
   "source": [
    "### Вывод о практической значисти"
   ]
  },
  {
   "cell_type": "markdown",
   "metadata": {},
   "source": [
    "Мы получили <b>статистически значимые</b> отличия в медианных значениях кредитного лимита для 2 групп\n",
    "людей, которые вернули и не вернули кредит на уровне значимости <b>6e-190</b> (Критерий Манна-Уитни). Точечная выборочная оценка разницы медиан\n",
    "составила <b>60 000</b> условных единиц. Уровень значимости показывает нам вероятность получить\n",
    "такую оценку случайно (сделать ошибку 1ого рода), она стремится к нулю, следовательно\n",
    "<b>размер эффекта</b> (степень отклонения от 0-гипотезы, которую мы уверенно отвергаем) <b>очень сильный</b>.\n",
    "Но не смотря на очень сильный размер эффекта, разница в медианных значениях не позволяет нам сделать какой-либо <b>практический вывод</b> и установить <b>практическую значимость</b> данных различий.\n",
    "<br>Ниже приведены два boxplot графика для соответствующих групп людей, по которым мы можем сказать, что межквартильное расстояние для крдитного лимита у второй группы несколько уже и смещенно от соответствуюего расстояния для первой группы, но сделать какие-то качественные оценки о различиях не представляется возможным.\n",
    "\n"
   ]
  },
  {
   "cell_type": "code",
   "execution_count": 23,
   "metadata": {},
   "outputs": [
    {
     "data": {
      "image/png": "[encoded data removed]",
      "text/plain": [
       "<Figure size 1008x576 with 1 Axes>"
      ]
     },
     "metadata": {
      "needs_background": "light"
     },
     "output_type": "display_data"
    }
   ],
   "source": [
    "pylab.figure(figsize=(14,8))\n",
    "sns.boxplot(x='default',y='LIMIT_BAL',data=DATA_)\n",
    "pylab.title('Отображение изменчивости величины кредитного лимита для людей вернувших и не вернувших кредит')\n",
    "pylab.grid()\n",
    "pylab.show()"
   ]
  },
  {
   "cell_type": "markdown",
   "metadata": {},
   "source": [
    "### Задание№ 2\n",
    "\n",
    "Пол (SEX): Проверьте гипотезу о том, что гендерный состав группы людей вернувших и не вернувших кредит отличается. Хорошо, если вы предоставите несколько различных решений этой задачи (с помощью доверительного интервала и подходящего статистического критерия)"
   ]
  },
  {
   "cell_type": "code",
   "execution_count": 24,
   "metadata": {},
   "outputs": [
    {
     "name": "stdout",
     "output_type": "stream",
     "text": [
      "(23364,)\n",
      "(6636,)\n"
     ]
    }
   ],
   "source": [
    "data_SEX_0=DATA_.loc[DATA_.default==0, 'SEX']\n",
    "print (data_SEX_0.shape) #размер первой группы людей - вернули кредит\n",
    "data_SEX_1=DATA_.loc[DATA_.default==1, 'SEX']\n",
    "print (data_SEX_1.shape) #размер второй группы людей - не вернули кредит"
   ]
  },
  {
   "cell_type": "code",
   "execution_count": 25,
   "metadata": {},
   "outputs": [
    {
     "name": "stdout",
     "output_type": "stream",
     "text": [
      "2    14349\n",
      "1     9015\n",
      "Name: SEX, dtype: int64\n",
      "2    3763\n",
      "1    2873\n",
      "Name: SEX, dtype: int64\n"
     ]
    }
   ],
   "source": [
    "print (data_SEX_0.value_counts())\n",
    "print (data_SEX_1.value_counts())"
   ]
  },
  {
   "cell_type": "code",
   "execution_count": 26,
   "metadata": {},
   "outputs": [
    {
     "data": {
      "image/png": "[encoded data removed]",
      "text/plain": [
       "<Figure size 1008x432 with 2 Axes>"
      ]
     },
     "metadata": {
      "needs_background": "light"
     },
     "output_type": "display_data"
    }
   ],
   "source": [
    "fig, axs = pylab.subplots(figsize=(14, 6) ,nrows=1, ncols=2)\n",
    "\n",
    "sns.countplot(data_SEX_0,ax=axs[0])\n",
    "sns.countplot(data_SEX_1,ax=axs[1])\n",
    "axs[0].set_title('Распределение признака \"SEX\" среди вернувших кредит')\n",
    "axs[1].set_title('Распределение признака \"SEX\" среди не вернувших кредит')\n",
    "pylab.show()\n"
   ]
  },
  {
   "cell_type": "code",
   "execution_count": 27,
   "metadata": {},
   "outputs": [
    {
     "name": "stdout",
     "output_type": "stream",
     "text": [
      "2    14349\n",
      "1     9015\n",
      "Name: SEX, dtype: int64\n"
     ]
    }
   ],
   "source": [
    "print (data_SEX_0.value_counts())"
   ]
  },
  {
   "cell_type": "markdown",
   "metadata": {},
   "source": [
    "Проверка гипотез с помощью интервальной оценки\n",
    "\n",
    "<br><b>H0</b>: гендерный состав группы людей вернувших и не вернувших кредит не отличается (доля мужчин в 1ой и 2ой группах одинакова - не меняется)\n",
    "<br><b>H1</b>: гендерный состав группы людей вернувших и не вернувших кредит отличается (доли мужчин в 1ой и 2ой группе не равны)"
   ]
  },
  {
   "cell_type": "markdown",
   "metadata": {},
   "source": [
    "### Точечная оценка долей"
   ]
  },
  {
   "cell_type": "markdown",
   "metadata": {},
   "source": [
    "Построим доверительные интервалы для доли мужчин в каждой группе"
   ]
  },
  {
   "cell_type": "code",
   "execution_count": 54,
   "metadata": {},
   "outputs": [
    {
     "name": "stdout",
     "output_type": "stream",
     "text": [
      "доля мужчин в первой группе (те кто вернули) 0.385850\n",
      "доля мужчин во второй группе (те кто не вернули) 0.432942\n",
      "точечная оценка разности долей 0.047092\n"
     ]
    }
   ],
   "source": [
    "#истинные значения долей\n",
    "MALE_SHARE_in_data_SEX_0=data_SEX_0[data_SEX_0==1].shape[0]/data_SEX_0.shape[0]\n",
    "print ('доля мужчин в первой группе (те кто вернули) %f' %MALE_SHARE_in_data_SEX_0,)\n",
    "MALE_SHARE_in_data_SEX_1=data_SEX_1[data_SEX_1==1].shape[0]/data_SEX_1.shape[0]\n",
    "print ('доля мужчин во второй группе (те кто не вернули) %f' %MALE_SHARE_in_data_SEX_1)\n",
    "print ('точечная оценка разности долей %f' %abs(MALE_SHARE_in_data_SEX_0-MALE_SHARE_in_data_SEX_1))"
   ]
  },
  {
   "cell_type": "markdown",
   "metadata": {},
   "source": [
    "### Интервальные оценки долей"
   ]
  },
  {
   "cell_type": "code",
   "execution_count": 28,
   "metadata": {},
   "outputs": [
    {
     "name": "stdout",
     "output_type": "stream",
     "text": [
      "95 процентный доверительный интервал для доли мужчин в 1ой группе [0.379627,0.392110]\n",
      "95 процентный доверительный интервал для доли мужчин в 2ой группе [0.421062,0.444898]\n"
     ]
    }
   ],
   "source": [
    "conf_interval_MALE_in_data_SEX_0 = proportion_confint(data_SEX_0[data_SEX_0==1].shape[0], \n",
    "                                            data_SEX_0.shape[0],\n",
    "                                            method = 'wilson')\n",
    "conf_interval_MALE_in_data_SEX_1 = proportion_confint(data_SEX_1[data_SEX_1==1].shape[0], \n",
    "                                            data_SEX_1.shape[0],\n",
    "                                            method = 'wilson')\n",
    "\n",
    "print ('95 процентный доверительный интервал для доли мужчин в 1ой группе [%f,%f]' %conf_interval_MALE_in_data_SEX_0)\n",
    "print ('95 процентный доверительный интервал для доли мужчин в 2ой группе [%f,%f]' %conf_interval_MALE_in_data_SEX_1)"
   ]
  },
  {
   "cell_type": "markdown",
   "metadata": {},
   "source": [
    "### Вывод 1"
   ]
  },
  {
   "cell_type": "markdown",
   "metadata": {},
   "source": [
    "Т.к. 95%-ые интервалы для доли мужчин в каждой группе не пересекаются, то можно сделать\n",
    "вывод о том, что гендерный состав обеих групп статистически различается с уровнем значимости ниже 5% и отклонить H0 гипотезу на уровне значимости 5%."
   ]
  },
  {
   "cell_type": "markdown",
   "metadata": {},
   "source": [
    "Сделаем дополнительную проверку рассчитав доверительный интревал для разности долей.\n",
    "\n",
    "Воспользуемся формулой доверительного интервала для разности долей двух несвязных выборок."
   ]
  },
  {
   "cell_type": "markdown",
   "metadata": {},
   "source": [
    "\n",
    "$$ \\hat{p}_1 = \\frac{a}{n_1}$$\n",
    "\n",
    "\n",
    "$$ \\hat{p}_2 = \\frac{b}{n_2}$$\n",
    "\n",
    "$a$ - количество мужчин в первой выборке\n",
    "\n",
    "$b$ - количество мужчин во второй выборке\n",
    "\n",
    "$n_1$ - количество мужчин и женщин в первой выборке\n",
    "\n",
    "$n_2$ - количество мужчин и женщин в второй выборке\n",
    "\n",
    "\n",
    "$$\\text{Доверительный интервал для }p_1 - p_2\\colon \\;\\; \\hat{p}_1 - \\hat{p}_2 \\pm z_{1-\\frac{\\alpha}{2}}\\sqrt{\\frac{\\hat{p}_1(1 - \\hat{p}_1)}{n_1} + \\frac{\\hat{p}_2(1 - \\hat{p}_2)}{n_2}}$$"
   ]
  },
  {
   "cell_type": "code",
   "execution_count": 29,
   "metadata": {},
   "outputs": [],
   "source": [
    "def proportions_confint_diff_ind(sample1, sample2, alpha = 0.05):    \n",
    "    z = scipy.stats.norm.ppf(1 - alpha / 2.)   \n",
    "    p1 = sample1[sample1==1].shape[0]/sample1.shape[0]\n",
    "    p2 = sample2[sample2==1].shape[0]/sample2.shape[0]\n",
    "    \n",
    "    left_boundary = (p1 - p2) - z * np.sqrt(p1 * (1 - p1)/ len(sample1) + p2 * (1 - p2)/ len(sample2))\n",
    "    right_boundary = (p1 - p2) + z * np.sqrt(p1 * (1 - p1)/ len(sample1) + p2 * (1 - p2)/ len(sample2))\n",
    "    \n",
    "    return (left_boundary, right_boundary)"
   ]
  },
  {
   "cell_type": "code",
   "execution_count": 30,
   "metadata": {},
   "outputs": [
    {
     "name": "stdout",
     "output_type": "stream",
     "text": [
      "95-процентный доверительный интервал для разности долей [-0.060548,-0.033635]:\n"
     ]
    }
   ],
   "source": [
    "print(\"95-процентный доверительный интервал для разности долей [%f,%f]:\"  %proportions_confint_diff_ind(data_SEX_0,data_SEX_1))"
   ]
  },
  {
   "cell_type": "markdown",
   "metadata": {},
   "source": [
    "### Вывод2\n",
    "Т.к. 95%-ый интервал для разности доли мужчин в каждой группе не содержит 0, то можно сделать вывод о том, что гендерный состав обеих груп статистически различается с уровнем значимости ниже 5% и отклонить H0 гипотезу на уровне значимости 5%."
   ]
  },
  {
   "cell_type": "markdown",
   "metadata": {},
   "source": [
    "### Проверка гипотзы с помощью статистического критерия"
   ]
  },
  {
   "cell_type": "markdown",
   "metadata": {},
   "source": [
    "<br><b>H0</b>: гендерный состав группы людей вернувших и не вернувших кредит не отличается (доля мужчин в 1ой и 2ой группах одинакова - не меняется)\n",
    "\n",
    "<br><b>H1</b>: гендерный состав группы людей вернувших и не вернувших кредит отличается (доли мужчин в 1ой и 2ой группе не равны)"
   ]
  },
  {
   "cell_type": "markdown",
   "metadata": {},
   "source": [
    "Наши выборки принимают 2 значения (мужчина/женщина), следовательно необходимо использовать параметрические\n",
    "критерии, которые работают с распределениями Бернули.\n",
    "\n",
    "В нашем случае необходимо использовать <b>Z-критерий для разности долей двух независимых выборок</b>."
   ]
  },
  {
   "cell_type": "markdown",
   "metadata": {},
   "source": [
    "\n",
    "$$ \\hat{p}_1 = \\frac{a}{n_1}$$\n",
    "\n",
    "$$ \\hat{p}_2 = \\frac{b}{n_2}$$\n",
    "\n",
    "$a$ - количество мужчин в первой выборке\n",
    "\n",
    "$b$ - количество мужчин во второй выборке\n",
    "\n",
    "$n_1$ - количество мужчин и женщин в первой выборке\n",
    "\n",
    "$n_2$ - количество мужчин и женщин в второй выборке\n",
    "\n",
    "$$\\text{Доверительный интервал для }p_1 - p_2\\colon \\;\\; \\hat{p}_1 - \\hat{p}_2 \\pm z_{1-\\frac{\\alpha}{2}}\\sqrt{\\frac{\\hat{p}_1(1 - \\hat{p}_1)}{n_1} + \\frac{\\hat{p}_2(1 - \\hat{p}_2)}{n_2}}$$\n",
    "\n",
    "$$Z-статистика: Z({X_1, X_2}) =  \\frac{\\hat{p}_1 - \\hat{p}_2}{\\sqrt{P(1 - P)(\\frac{1}{n_1} + \\frac{1}{n_2})}}$$\n",
    "$$P = \\frac{\\hat{p}_1{n_1} + \\hat{p}_2{n_2}}{{n_1} + {n_2}} $$"
   ]
  },
  {
   "cell_type": "code",
   "execution_count": 31,
   "metadata": {},
   "outputs": [],
   "source": [
    "def proportions_diff_z_stat_ind(sample1, sample2):\n",
    "    n1 = sample1.shape[0]\n",
    "    n2 = sample2.shape[0]\n",
    "    \n",
    "    p1 = sample1[sample1==1].shape[0]/ n1\n",
    "    p2 = sample2[sample2==1].shape[0]/ n2 \n",
    "    P = float(p1*n1 + p2*n2) / (n1 + n2)\n",
    "    \n",
    "    return (p1 - p2) / np.sqrt(P * (1 - P) * (1. / n1 + 1. / n2))"
   ]
  },
  {
   "cell_type": "code",
   "execution_count": 32,
   "metadata": {},
   "outputs": [],
   "source": [
    "def proportions_diff_z_test(z_stat, alternative = 'two-sided'):\n",
    "    if alternative not in ('two-sided', 'less', 'greater'):\n",
    "        raise ValueError(\"alternative not recognized\\n\"\n",
    "                         \"should be 'two-sided', 'less' or 'greater'\")\n",
    "    \n",
    "    if alternative == 'two-sided':\n",
    "        return 2 * (1 - scipy.stats.norm.cdf(np.abs(z_stat)))\n",
    "    \n",
    "    if alternative == 'less':\n",
    "        return scipy.stats.norm.cdf(z_stat)\n",
    "\n",
    "    if alternative == 'greater':\n",
    "        return 1 - scipy.stats.norm.cdf(z_stat)"
   ]
  },
  {
   "cell_type": "code",
   "execution_count": 33,
   "metadata": {},
   "outputs": [
    {
     "name": "stdout",
     "output_type": "stream",
     "text": [
      "p-value: 4.47287e-12\n"
     ]
    }
   ],
   "source": [
    "print(\"p-value: %g\" % proportions_diff_z_test(proportions_diff_z_stat_ind(data_SEX_0, data_SEX_1)))"
   ]
  },
  {
   "cell_type": "markdown",
   "metadata": {},
   "source": [
    "### Вывод 3\n",
    "\n",
    "Гипотеза H0 уверенно отвергается против двусторонней альтернативы, достигаемый уровень значимсоти составляет p-value: 4.47287e-12. Точечная оценка разности двух долей составляет -0.047, 95% доверительный интервал для разности двух долей [-0.060548, -0.033635] \n"
   ]
  },
  {
   "cell_type": "markdown",
   "metadata": {},
   "source": [
    "### Задание №3\n",
    "\n",
    "Образование (EDUCATION): Проверьте гипотезу о том, что образование не влияет на то, вернет ли человек долг. Предложите способ наглядного представления разницы в ожидаемых и наблюдаемых значениях количества человек вернувших и не вернувших долг. Например, составьте таблицу сопряженности \"образование\" на \"возврат долга\", где значением ячейки была бы разность между наблюдаемым и ожидаемым количеством человек. Как бы вы предложили модифицировать таблицу так, чтобы привести значения ячеек к одному масштабу не потеряв в интерпретируемости ? Наличие какого образования является наилучшим индикатором того, что человек отдаст долг ? наоборт, не отдаст долг ?"
   ]
  },
  {
   "cell_type": "markdown",
   "metadata": {},
   "source": [
    "#### Проверьте гипотезу о том, что образование не влияет на то, вернет ли человек долг. "
   ]
  },
  {
   "cell_type": "code",
   "execution_count": 34,
   "metadata": {},
   "outputs": [
    {
     "data": {
      "text/plain": [
       "2    14030\n",
       "1    10585\n",
       "3     4917\n",
       "5      280\n",
       "4      123\n",
       "6       51\n",
       "0       14\n",
       "Name: EDUCATION, dtype: int64"
      ]
     },
     "execution_count": 34,
     "metadata": {},
     "output_type": "execute_result"
    }
   ],
   "source": [
    "DATA_.EDUCATION.value_counts()"
   ]
  },
  {
   "cell_type": "code",
   "execution_count": 35,
   "metadata": {},
   "outputs": [
    {
     "data": {
      "text/plain": [
       "array([2, 1, 3, 5, 4, 6, 0], dtype=int64)"
      ]
     },
     "execution_count": 35,
     "metadata": {},
     "output_type": "execute_result"
    }
   ],
   "source": [
    "DATA_.EDUCATION.unique()"
   ]
  },
  {
   "cell_type": "code",
   "execution_count": 36,
   "metadata": {},
   "outputs": [
    {
     "data": {
      "text/plain": [
       "0"
      ]
     },
     "execution_count": 36,
     "metadata": {},
     "output_type": "execute_result"
    }
   ],
   "source": [
    "DATA_.EDUCATION.isnull().sum()"
   ]
  },
  {
   "cell_type": "code",
   "execution_count": 37,
   "metadata": {},
   "outputs": [
    {
     "name": "stdout",
     "output_type": "stream",
     "text": [
      "(23364,)\n",
      "(6636,)\n"
     ]
    }
   ],
   "source": [
    "data_EDUC_0=DATA_.loc[DATA_.default==0, 'EDUCATION']\n",
    "print (data_EDUC_0.shape) #размер первой группы людей - вернули кредит\n",
    "data_EDUC_1=DATA_.loc[DATA_.default==1, 'EDUCATION']\n",
    "print (data_EDUC_1.shape) #размер второй группы людей - не вернули кредит"
   ]
  },
  {
   "cell_type": "code",
   "execution_count": 38,
   "metadata": {},
   "outputs": [
    {
     "data": {
      "image/png": "[encoded data removed]",
      "text/plain": [
       "<Figure size 1008x432 with 2 Axes>"
      ]
     },
     "metadata": {
      "needs_background": "light"
     },
     "output_type": "display_data"
    }
   ],
   "source": [
    "pylab.figure(figsize=(14,6))\n",
    "\n",
    "pylab.subplot(1,2,1)\n",
    "pylab.grid()\n",
    "pylab.hist(data_EDUC_0 ,color = 'r')\n",
    "pylab.xlabel('EDUCATION')\n",
    "pylab.ylabel('people')\n",
    "pylab.title('Распределение людей в зависимости от уровня образования'+'\\n'+' среди вернувших кредит')\n",
    "\n",
    "pylab.subplot(1,2,2)\n",
    "pylab.grid()\n",
    "pylab.hist(data_EDUC_1, color = 'b',label='111')\n",
    "pylab.xlabel('EDUCATION')\n",
    "pylab.ylabel('people')\n",
    "pylab.title('Распределение людей в зависимости от уровня образования'+'\\n'+' среди не вернувших кредит')\n",
    "\n",
    "pylab.show()"
   ]
  },
  {
   "cell_type": "markdown",
   "metadata": {},
   "source": [
    "Для двух категориальных переменных мерой силы взаимосвязи (мерой влияния) является <b>коэф. V Крамерра.</b>\n",
    "\n",
    "Коэф. V Краммера , в свою очередь, определяется через критерий <b>Хи-квадрат</b>, который проверяет значимость отличия от нуля соответствующего коэф. V Краммера.\n",
    "Строим таблицу сопряженности размером 6x2"
   ]
  },
  {
   "cell_type": "markdown",
   "metadata": {},
   "source": [
    "<b>Проверим гипотезу:</b>\n",
    "\n",
    "<br><b>H0</b>: Образование не влияет на то, вернет ли чеовек долг (т.е. между уровнем образования и целевым индикатором возврата / невозврата денежных средств нет взаимосвязи(корреляции)\n",
    "\n",
    "<br><b>H1</b>: Образование влияет на то, вернет ли чеовек долг (т.е. между уровнем образования и целевым индикатором возврата / невозврата денежных есть взаимосвязь(корреляция). (двусторонняя альтернатива)"
   ]
  },
  {
   "cell_type": "markdown",
   "metadata": {},
   "source": [
    "составим табилцу сопряженности"
   ]
  },
  {
   "cell_type": "code",
   "execution_count": 39,
   "metadata": {},
   "outputs": [
    {
     "data": {
      "text/html": [
       "<div>\n",
       "<style scoped>\n",
       "    .dataframe tbody tr th:only-of-type {\n",
       "        vertical-align: middle;\n",
       "    }\n",
       "\n",
       "    .dataframe tbody tr th {\n",
       "        vertical-align: top;\n",
       "    }\n",
       "\n",
       "    .dataframe thead th {\n",
       "        text-align: right;\n",
       "    }\n",
       "</style>\n",
       "<table border=\"1\" class=\"dataframe\">\n",
       "  <thead>\n",
       "    <tr style=\"text-align: right;\">\n",
       "      <th>default</th>\n",
       "      <th>0</th>\n",
       "      <th>1</th>\n",
       "    </tr>\n",
       "    <tr>\n",
       "      <th>EDUCATION</th>\n",
       "      <th></th>\n",
       "      <th></th>\n",
       "    </tr>\n",
       "  </thead>\n",
       "  <tbody>\n",
       "    <tr>\n",
       "      <th>0</th>\n",
       "      <td>14</td>\n",
       "      <td>0</td>\n",
       "    </tr>\n",
       "    <tr>\n",
       "      <th>1</th>\n",
       "      <td>8549</td>\n",
       "      <td>2036</td>\n",
       "    </tr>\n",
       "    <tr>\n",
       "      <th>2</th>\n",
       "      <td>10700</td>\n",
       "      <td>3330</td>\n",
       "    </tr>\n",
       "    <tr>\n",
       "      <th>3</th>\n",
       "      <td>3680</td>\n",
       "      <td>1237</td>\n",
       "    </tr>\n",
       "    <tr>\n",
       "      <th>4</th>\n",
       "      <td>116</td>\n",
       "      <td>7</td>\n",
       "    </tr>\n",
       "    <tr>\n",
       "      <th>5</th>\n",
       "      <td>262</td>\n",
       "      <td>18</td>\n",
       "    </tr>\n",
       "    <tr>\n",
       "      <th>6</th>\n",
       "      <td>43</td>\n",
       "      <td>8</td>\n",
       "    </tr>\n",
       "  </tbody>\n",
       "</table>\n",
       "</div>"
      ],
      "text/plain": [
       "default        0     1\n",
       "EDUCATION             \n",
       "0             14     0\n",
       "1           8549  2036\n",
       "2          10700  3330\n",
       "3           3680  1237\n",
       "4            116     7\n",
       "5            262    18\n",
       "6             43     8"
      ]
     },
     "execution_count": 39,
     "metadata": {},
     "output_type": "execute_result"
    }
   ],
   "source": [
    "table=pd.crosstab(DATA_.EDUCATION, DATA_.default)\n",
    "table"
   ]
  },
  {
   "cell_type": "code",
   "execution_count": 40,
   "metadata": {},
   "outputs": [
    {
     "name": "stdout",
     "output_type": "stream",
     "text": [
      "коэффициент Краммера =  0.07376009713252163\n",
      "p_value =  1.2332626245415605e-32\n"
     ]
    }
   ],
   "source": [
    "chi2, p_value, n_dof, expected_values= chi2_stat=scipy.stats.chi2_contingency(table)\n",
    "n=table.sum().sum()\n",
    "min_from_shape=min(table.shape[0],table.shape[1])\n",
    "V_Krammer=np.sqrt(chi2/(n*(min_from_shape-1)))\n",
    "print ('коэффициент Краммера = ',V_Krammer)\n",
    "print ('p_value = ',p_value)"
   ]
  },
  {
   "cell_type": "markdown",
   "metadata": {},
   "source": [
    "проверим соответствие условию применимости критерия Хи-квадрат\n",
    "1. n>=40\n",
    "2. expected_values [i][j] < 5 не более, чем в 20% ячеек"
   ]
  },
  {
   "cell_type": "code",
   "execution_count": 41,
   "metadata": {},
   "outputs": [
    {
     "data": {
      "text/plain": [
       "30000"
      ]
     },
     "execution_count": 41,
     "metadata": {},
     "output_type": "execute_result"
    }
   ],
   "source": [
    "n"
   ]
  },
  {
   "cell_type": "code",
   "execution_count": 42,
   "metadata": {},
   "outputs": [
    {
     "data": {
      "text/plain": [
       "array([[1.0903200e+01, 3.0968000e+00],\n",
       "       [8.2435980e+03, 2.3414020e+03],\n",
       "       [1.0926564e+04, 3.1034360e+03],\n",
       "       [3.8293596e+03, 1.0876404e+03],\n",
       "       [9.5792400e+01, 2.7207600e+01],\n",
       "       [2.1806400e+02, 6.1936000e+01],\n",
       "       [3.9718800e+01, 1.1281200e+01]])"
      ]
     },
     "execution_count": 42,
     "metadata": {},
     "output_type": "execute_result"
    }
   ],
   "source": [
    "expected_values"
   ]
  },
  {
   "cell_type": "code",
   "execution_count": 43,
   "metadata": {},
   "outputs": [
    {
     "name": "stdout",
     "output_type": "stream",
     "text": [
      "[3.0968]\n",
      "14\n",
      "в 7.14 % ячеек ожидаемое количество элементов меньше 5\n"
     ]
    }
   ],
   "source": [
    "print (expected_values[expected_values<5])\n",
    "print (expected_values.shape[0]*expected_values.shape[1])\n",
    "print ('в',round ( 1/(expected_values.shape[0]*expected_values.shape[1])*100, 2), '% ячеек ожидаемое количество элементов меньше 5')"
   ]
  },
  {
   "cell_type": "markdown",
   "metadata": {},
   "source": [
    "### Вывод 1\n",
    "\n",
    "С помощью критерия Хи-Квадрат мы получили значение коэф. V-Краммера = 0.07376 с уровнем значимости p_value = 1.2e-32, следовательно мы уверенно отвергаем 0-ую гипотезу в пользу альтернативной, и делаем вывод, что полученный коэф. Краммера значимо отличается от 0, что указывает на статистически значимую корреляцию между уровнем образования и вовратом или невовзратом денежных средств."
   ]
  },
  {
   "cell_type": "markdown",
   "metadata": {},
   "source": [
    "Предложите способ <b>наглядного представления разницы в ожидаемых и наблюдаемых значениях количества человек вернувших и не вернувших долг</b>.\n",
    "Например, составьте таблицу сопряженности \"образование\" на \"возврат долга\", где значением ячейки была бы разность между наблюдаемым и ожидаемым количеством человек. Как бы вы предложили модифицировать таблицу так, чтобы привести значения ячеек к одному масштабу не потеряв в интерпретируемости ?"
   ]
  },
  {
   "cell_type": "markdown",
   "metadata": {},
   "source": [
    "1. Окргулим ожидаемые значения до целых (т.к. мы считаем людей)"
   ]
  },
  {
   "cell_type": "code",
   "execution_count": 44,
   "metadata": {},
   "outputs": [
    {
     "data": {
      "text/plain": [
       "array([[1.0903200e+01, 3.0968000e+00],\n",
       "       [8.2435980e+03, 2.3414020e+03],\n",
       "       [1.0926564e+04, 3.1034360e+03],\n",
       "       [3.8293596e+03, 1.0876404e+03],\n",
       "       [9.5792400e+01, 2.7207600e+01],\n",
       "       [2.1806400e+02, 6.1936000e+01],\n",
       "       [3.9718800e+01, 1.1281200e+01]])"
      ]
     },
     "execution_count": 44,
     "metadata": {},
     "output_type": "execute_result"
    }
   ],
   "source": [
    "expected_values"
   ]
  },
  {
   "cell_type": "code",
   "execution_count": 45,
   "metadata": {},
   "outputs": [
    {
     "data": {
      "text/plain": [
       "[[11.0, 3.0],\n",
       " [8244.0, 2341.0],\n",
       " [10927.0, 3103.0],\n",
       " [3829.0, 1088.0],\n",
       " [96.0, 27.0],\n",
       " [218.0, 62.0],\n",
       " [40.0, 11.0]]"
      ]
     },
     "execution_count": 45,
     "metadata": {},
     "output_type": "execute_result"
    }
   ],
   "source": [
    "expected_values_round=[list(map(lambda x: round(x),i)) for i in expected_values]\n",
    "expected_values_round"
   ]
  },
  {
   "cell_type": "code",
   "execution_count": 46,
   "metadata": {},
   "outputs": [
    {
     "data": {
      "text/plain": [
       "array([[   3.,   -3.],\n",
       "       [ 305., -305.],\n",
       "       [-227.,  227.],\n",
       "       [-149.,  149.],\n",
       "       [  20.,  -20.],\n",
       "       [  44.,  -44.],\n",
       "       [   3.,   -3.]])"
      ]
     },
     "execution_count": 46,
     "metadata": {},
     "output_type": "execute_result"
    }
   ],
   "source": [
    "table_diff=table.values-expected_values_round\n",
    "table_diff"
   ]
  },
  {
   "cell_type": "markdown",
   "metadata": {},
   "source": [
    "Данную таблицу можно отмасштабировать следующим образом: каждое значение можно разделить на сумму\n",
    "всех человек с соответствующим образованием, так мы получим долю или процент, \n",
    "на который каждое наблюдаемое значение отличается от ожидаемого, относительно всего количества людей с данным образованием, это поможет нам оценить для какого уровня образования данные различия преоблдают."
   ]
  },
  {
   "cell_type": "code",
   "execution_count": 47,
   "metadata": {},
   "outputs": [
    {
     "name": "stdout",
     "output_type": "stream",
     "text": [
      "[14, 10585, 14030, 4917, 123, 280, 51]\n"
     ]
    }
   ],
   "source": [
    "sum_by_educ=[DATA_.EDUCATION[DATA_.EDUCATION==i].count() for i in range(7)]\n",
    "print (sum_by_educ)"
   ]
  },
  {
   "cell_type": "code",
   "execution_count": 48,
   "metadata": {},
   "outputs": [
    {
     "data": {
      "text/plain": [
       "0       14\n",
       "1    10585\n",
       "2    14030\n",
       "3     4917\n",
       "4      123\n",
       "5      280\n",
       "6       51\n",
       "Name: EDUCATION, dtype: int64"
      ]
     },
     "execution_count": 48,
     "metadata": {},
     "output_type": "execute_result"
    }
   ],
   "source": [
    "#альтернативный способ\n",
    "DATA_.EDUCATION.value_counts(sort=False)"
   ]
  },
  {
   "cell_type": "markdown",
   "metadata": {},
   "source": [
    "Для первой группы:"
   ]
  },
  {
   "cell_type": "code",
   "execution_count": 49,
   "metadata": {},
   "outputs": [
    {
     "data": {
      "text/plain": [
       "array([   3.,  305., -227., -149.,   20.,   44.,    3.])"
      ]
     },
     "execution_count": 49,
     "metadata": {},
     "output_type": "execute_result"
    }
   ],
   "source": [
    "table_diff.T[0]"
   ]
  },
  {
   "cell_type": "code",
   "execution_count": 50,
   "metadata": {},
   "outputs": [
    {
     "name": "stdout",
     "output_type": "stream",
     "text": [
      "[ 0.2143  0.0288 -0.0162 -0.0303  0.1626  0.1571  0.0588]\n"
     ]
    }
   ],
   "source": [
    "table_diff_0=np.array([0.,0.,0.,0.,0.,0.,0.])\n",
    "for number,el in enumerate(table_diff.T[0]):\n",
    "\n",
    "    table_diff_0[number]=round(int(el)/sum_by_educ[number],4)\n",
    "print (table_diff_0)\n"
   ]
  },
  {
   "cell_type": "markdown",
   "metadata": {},
   "source": [
    "Для второй:"
   ]
  },
  {
   "cell_type": "code",
   "execution_count": 51,
   "metadata": {},
   "outputs": [
    {
     "name": "stdout",
     "output_type": "stream",
     "text": [
      "[-0.2143 -0.0288  0.0162  0.0303 -0.1626 -0.1571 -0.0588]\n"
     ]
    }
   ],
   "source": [
    "table_diff_1=np.array([0.,0.,0.,0.,0.,0.,0.])\n",
    "for number,el in enumerate(table_diff.T[1]):\n",
    "\n",
    "    table_diff_1[number]=round(el/sum_by_educ[number],4)\n",
    "print (table_diff_1)"
   ]
  },
  {
   "cell_type": "code",
   "execution_count": 52,
   "metadata": {},
   "outputs": [
    {
     "data": {
      "text/plain": [
       "array([[ 0.2143, -0.2143],\n",
       "       [ 0.0288, -0.0288],\n",
       "       [-0.0162,  0.0162],\n",
       "       [-0.0303,  0.0303],\n",
       "       [ 0.1626, -0.1626],\n",
       "       [ 0.1571, -0.1571],\n",
       "       [ 0.0588, -0.0588]])"
      ]
     },
     "execution_count": 52,
     "metadata": {},
     "output_type": "execute_result"
    }
   ],
   "source": [
    "table_diff_modern=np.vstack((table_diff_0,table_diff_1)).T\n",
    "table_diff_modern"
   ]
  },
  {
   "cell_type": "markdown",
   "metadata": {},
   "source": [
    "### Вывод 2\n",
    "По таблицы разницы между наблюдаемыми и ожидаемыми значениями можно сделать вывод, что\n",
    "\n",
    "1) Среди тех, кто вернули кредит, наибольшая разница между ожидаемым и наблюдаемым значениями\n",
    "соответствует людям с 0-образованием (Доктора). Наблюдаем на 20% больше.\n",
    "\n",
    "2) Среди тех, кто не вернул кредит,  наибольшая разница между ожидаемым и наблюдаемым значениями\n",
    "соответствует людям с 0-образованием (Доктора). Наблюдаем на 20% меньше. \n",
    "\n",
    "Комментарии:\n",
    "\n",
    "Практическая значимость из данного сравнения не совсем очевидена."
   ]
  },
  {
   "cell_type": "markdown",
   "metadata": {},
   "source": [
    "<b>Наличие какого образования является наилучшим индикатором того, что человек отдаст долг ? наоборт, не отдаст долг ?</b>"
   ]
  },
  {
   "cell_type": "markdown",
   "metadata": {},
   "source": [
    "1. Рассмотрим таблицу сопряженности для наблюдаемых значений\n"
   ]
  },
  {
   "cell_type": "code",
   "execution_count": 53,
   "metadata": {},
   "outputs": [
    {
     "data": {
      "text/html": [
       "<div>\n",
       "<style scoped>\n",
       "    .dataframe tbody tr th:only-of-type {\n",
       "        vertical-align: middle;\n",
       "    }\n",
       "\n",
       "    .dataframe tbody tr th {\n",
       "        vertical-align: top;\n",
       "    }\n",
       "\n",
       "    .dataframe thead th {\n",
       "        text-align: right;\n",
       "    }\n",
       "</style>\n",
       "<table border=\"1\" class=\"dataframe\">\n",
       "  <thead>\n",
       "    <tr style=\"text-align: right;\">\n",
       "      <th>default</th>\n",
       "      <th>0</th>\n",
       "      <th>1</th>\n",
       "    </tr>\n",
       "    <tr>\n",
       "      <th>EDUCATION</th>\n",
       "      <th></th>\n",
       "      <th></th>\n",
       "    </tr>\n",
       "  </thead>\n",
       "  <tbody>\n",
       "    <tr>\n",
       "      <th>0</th>\n",
       "      <td>14</td>\n",
       "      <td>0</td>\n",
       "    </tr>\n",
       "    <tr>\n",
       "      <th>1</th>\n",
       "      <td>8549</td>\n",
       "      <td>2036</td>\n",
       "    </tr>\n",
       "    <tr>\n",
       "      <th>2</th>\n",
       "      <td>10700</td>\n",
       "      <td>3330</td>\n",
       "    </tr>\n",
       "    <tr>\n",
       "      <th>3</th>\n",
       "      <td>3680</td>\n",
       "      <td>1237</td>\n",
       "    </tr>\n",
       "    <tr>\n",
       "      <th>4</th>\n",
       "      <td>116</td>\n",
       "      <td>7</td>\n",
       "    </tr>\n",
       "    <tr>\n",
       "      <th>5</th>\n",
       "      <td>262</td>\n",
       "      <td>18</td>\n",
       "    </tr>\n",
       "    <tr>\n",
       "      <th>6</th>\n",
       "      <td>43</td>\n",
       "      <td>8</td>\n",
       "    </tr>\n",
       "  </tbody>\n",
       "</table>\n",
       "</div>"
      ],
      "text/plain": [
       "default        0     1\n",
       "EDUCATION             \n",
       "0             14     0\n",
       "1           8549  2036\n",
       "2          10700  3330\n",
       "3           3680  1237\n",
       "4            116     7\n",
       "5            262    18\n",
       "6             43     8"
      ]
     },
     "execution_count": 53,
     "metadata": {},
     "output_type": "execute_result"
    }
   ],
   "source": [
    "table"
   ]
  },
  {
   "cell_type": "markdown",
   "metadata": {},
   "source": [
    "2. Посчитаем для каждой группы соответствующую долю успехов для каждого вида образования\n",
    "\n",
    "(для 1ой группы - долю вернувших, для 2ой-долю невернувших)"
   ]
  },
  {
   "cell_type": "code",
   "execution_count": 54,
   "metadata": {},
   "outputs": [
    {
     "name": "stdout",
     "output_type": "stream",
     "text": [
      "[1.0, 0.8076523382144544, 0.7626514611546685, 0.7484238356721579, 0.943089430894309, 0.9357142857142857, 0.8431372549019608]\n",
      "[0.0, 0.19234766178554558, 0.23734853884533144, 0.2515761643278422, 0.056910569105691054, 0.06428571428571428, 0.1568627450980392]\n"
     ]
    }
   ],
   "source": [
    "table['sum']=table[0]+table[1]\n",
    "table\n",
    "print ([table.iloc[i,0]/table['sum'][i] for i in range(7)])\n",
    "print ([table.iloc[i,1]/table['sum'][i] for i in range(7)])"
   ]
  },
  {
   "cell_type": "code",
   "execution_count": 55,
   "metadata": {},
   "outputs": [
    {
     "name": "stdout",
     "output_type": "stream",
     "text": [
      "[0.0, 0.19234766178554558, 0.23734853884533144, 0.2515761643278422, 0.056910569105691054, 0.06428571428571428, 0.1568627450980392]\n"
     ]
    }
   ],
   "source": [
    "print ([table.iloc[i,1]/table['sum'][i] for i in range(7)])"
   ]
  },
  {
   "cell_type": "markdown",
   "metadata": {},
   "source": [
    "3. В качетве метрики для оценки наилучшего индикатора \n",
    "\n",
    "а) возврата кредита\n",
    "\n",
    "будем использовать левую границу 95%-го доверительного интервала для доли , посчитпнного по методу Уилсона. (выбираем наивысшую из нижних границ доли возвратов, т.е. как минимум данная доля на уровне доверия 95% вернет кредит)\n",
    "\n",
    "б) невозврата кредита\n",
    "\n",
    "будем использовать правую границу 95%-го доверительного интервала для доли , посчитпнного по методу Уилсона. (выбираем наивысшую из верхних границ долю невозвратов, т.е. максимальная доля невозвратов на уровне доверия 95%)"
   ]
  },
  {
   "cell_type": "code",
   "execution_count": 56,
   "metadata": {},
   "outputs": [
    {
     "data": {
      "text/plain": [
       "[(0.7846891972623641, 0.9999999999999999),\n",
       " (0.8000326702900069, 0.8150487836470102),\n",
       " (0.7555401149671762, 0.7696190170941121),\n",
       " (0.7361046029027092, 0.7603552039095749),\n",
       " (0.8871784587405342, 0.9721620204168744),\n",
       " (0.9006819688438781, 0.9589528463581449),\n",
       " (0.7198955322701223, 0.918307767799513)]"
      ]
     },
     "execution_count": 56,
     "metadata": {},
     "output_type": "execute_result"
    }
   ],
   "source": [
    "conf_int_0=[proportion_confint( table.iloc[i,0], table['sum'][i], method = 'wilson') \n",
    "            for i in range(7)]\n",
    "conf_int_0"
   ]
  },
  {
   "cell_type": "code",
   "execution_count": 57,
   "metadata": {},
   "outputs": [
    {
     "name": "stdout",
     "output_type": "stream",
     "text": [
      "наибольшее значение левой границы = 0.9006819688438781\n"
     ]
    }
   ],
   "source": [
    "print ('наибольшее значение левой границы =',max([i[0] for i in conf_int_0]))"
   ]
  },
  {
   "cell_type": "code",
   "execution_count": 58,
   "metadata": {},
   "outputs": [
    {
     "name": "stdout",
     "output_type": "stream",
     "text": [
      "данной границе соответствует уровень образования:  5\n"
     ]
    }
   ],
   "source": [
    "print ('данной границе соответствует уровень образования: ',\n",
    "       np.where(conf_int_0==max( [i[0] for i in conf_int_0]))[0][0])"
   ]
  },
  {
   "cell_type": "code",
   "execution_count": 59,
   "metadata": {},
   "outputs": [
    {
     "data": {
      "text/plain": [
       "[(2.7755575615628914e-17, 0.21531080273763586),\n",
       " (0.1849512163529897, 0.19996732970999295),\n",
       " (0.23038098290588793, 0.24445988503282373),\n",
       " (0.2396447960904251, 0.2638953970972908),\n",
       " (0.02783797958312565, 0.11282154125946578),\n",
       " (0.041047153641855086, 0.09931803115612199),\n",
       " (0.08169223220048706, 0.2801044677298777)]"
      ]
     },
     "execution_count": 59,
     "metadata": {},
     "output_type": "execute_result"
    }
   ],
   "source": [
    "conf_int_1=[proportion_confint( table.iloc[i,1], table['sum'][i], method = 'wilson')\n",
    "            for i in range(7)]\n",
    "conf_int_1"
   ]
  },
  {
   "cell_type": "code",
   "execution_count": 60,
   "metadata": {},
   "outputs": [
    {
     "name": "stdout",
     "output_type": "stream",
     "text": [
      "наибольшее значение правой границы = 0.2801044677298777\n",
      "данной границе соответствует уровень образования:  6\n"
     ]
    }
   ],
   "source": [
    "print ('наибольшее значение правой границы =' ,max([i[1] for i in conf_int_1]))\n",
    "print ('данной границе соответствует уровень образования: ',\n",
    "       np.where(conf_int_1==max([i[1] for i in conf_int_1]))[0][0])"
   ]
  },
  {
   "cell_type": "code",
   "execution_count": 61,
   "metadata": {},
   "outputs": [
    {
     "data": {
      "text/plain": [
       "[[0.7846891972623641, 0.9999999999999999],\n",
       " [0.8000326702900069, 0.8150487836470102],\n",
       " [0.7555401149671762, 0.7696190170941121],\n",
       " [0.7361046029027092, 0.7603552039095749],\n",
       " [0.8871784587405342, 0.9721620204168744],\n",
       " [0.9006819688438781, 0.9589528463581449],\n",
       " [0.7198955322701223, 0.918307767799513]]"
      ]
     },
     "execution_count": 61,
     "metadata": {},
     "output_type": "execute_result"
    }
   ],
   "source": [
    "right_border_for0=[i[0] for i in conf_int_0]\n",
    "left_border_for0=[i[1] for i in conf_int_0]\n",
    "conf_intervals0=[[right_border_for0[i],left_border_for0[i]] for i in range(7)]\n",
    "conf_intervals0"
   ]
  },
  {
   "cell_type": "code",
   "execution_count": 62,
   "metadata": {},
   "outputs": [
    {
     "data": {
      "text/plain": [
       "[[2.7755575615628914e-17, 0.21531080273763586],\n",
       " [0.1849512163529897, 0.19996732970999295],\n",
       " [0.23038098290588793, 0.24445988503282373],\n",
       " [0.2396447960904251, 0.2638953970972908],\n",
       " [0.02783797958312565, 0.11282154125946578],\n",
       " [0.041047153641855086, 0.09931803115612199],\n",
       " [0.08169223220048706, 0.2801044677298777]]"
      ]
     },
     "execution_count": 62,
     "metadata": {},
     "output_type": "execute_result"
    }
   ],
   "source": [
    "right_border_for1=[i[0] for i in conf_int_1]\n",
    "left_border_for1=[i[1] for i in conf_int_1]\n",
    "conf_intervals1=[[right_border_for1[i],left_border_for1[i]] for i in range(7)]\n",
    "conf_intervals1"
   ]
  },
  {
   "cell_type": "code",
   "execution_count": null,
   "metadata": {},
   "outputs": [],
   "source": []
  },
  {
   "cell_type": "code",
   "execution_count": 63,
   "metadata": {},
   "outputs": [
    {
     "data": {
      "image/png": "[encoded data removed]",
      "text/plain": [
       "<Figure size 1440x720 with 2 Axes>"
      ]
     },
     "metadata": {
      "needs_background": "light"
     },
     "output_type": "display_data"
    }
   ],
   "source": [
    "ig, axs = pylab.subplots(figsize=(20, 10) ,nrows=1, ncols=2)\n",
    "sns.boxplot(x=np.arange(7),y=conf_intervals0,ax=axs[0])\n",
    "sns.boxplot(x=np.arange(7),y=conf_intervals1,ax=axs[1])\n",
    "axs[0].set_title('Доверительные интервалы для доли вернувших кредит в зависимости от образования')\n",
    "axs[1].set_title('Доверительные интервалы для доли невернувших кредит в зависимости от образования')\n",
    "axs[0].set(xlabel='EDUCATION')\n",
    "axs[1].set(xlabel='EDUCATION')\n",
    "axs[0].grid()\n",
    "axs[1].grid()\n",
    "pylab.show()"
   ]
  },
  {
   "cell_type": "markdown",
   "metadata": {},
   "source": [
    "### Вывод 3\n",
    "\n",
    "1. Наилучший индикатор того, что человек вернет деньги - образование 5 (прочее) - наивысшая из нижних границ, т.е. для этого типа образования минимальная доля вернувших наибольшая среди долей для других видов образований с уровнем доверия 95%.\n",
    "2. Наилучший индикатор того, что человек не вернет деньги - образование 6 (нет данных). - наивысшая из верхних границ, т.е.для этого типа образования максимальная доля невернувших кредит - наибольшая среди долей для других видов образований с уровнем доверя 95%."
   ]
  },
  {
   "cell_type": "markdown",
   "metadata": {},
   "source": [
    "### Задание №4\n",
    "\n",
    "Семейное положение (MARRIAGE): Проверьте, как связан семейный статус с индикатором дефолта: нужно предложить меру, по которой можно измерить возможную связь этих переменных и посчитать ее значение.\n",
    "\n",
    "MARRIAGE: (0 = отказываюсь отвечать; 1 = замужем/женат; 2 = холост; 3 = нет данных)."
   ]
  },
  {
   "cell_type": "code",
   "execution_count": 64,
   "metadata": {},
   "outputs": [
    {
     "data": {
      "text/plain": [
       "2    15964\n",
       "1    13659\n",
       "3      323\n",
       "0       54\n",
       "Name: MARRIAGE, dtype: int64"
      ]
     },
     "execution_count": 64,
     "metadata": {},
     "output_type": "execute_result"
    }
   ],
   "source": [
    "DATA_.MARRIAGE.value_counts()"
   ]
  },
  {
   "cell_type": "code",
   "execution_count": 65,
   "metadata": {},
   "outputs": [
    {
     "data": {
      "text/plain": [
       "0    23364\n",
       "1     6636\n",
       "Name: default, dtype: int64"
      ]
     },
     "execution_count": 65,
     "metadata": {},
     "output_type": "execute_result"
    }
   ],
   "source": [
    "DATA_.default.value_counts()"
   ]
  },
  {
   "cell_type": "markdown",
   "metadata": {},
   "source": [
    "Оба признака - категоральные, используем коэф. V Крамера для оценки степени взаимосвязи.\n",
    "Значимость полученного значения проверяем метрикой Хи-квадрат."
   ]
  },
  {
   "cell_type": "markdown",
   "metadata": {},
   "source": [
    "<b>Проверим гипотезу:</b>\n",
    "\n",
    "<br><b>H0</b>: Семейный статус не влияет на то, вернет ли человек долг (т.е. между семейным статусом и целевым индикатором возврата / невозврата денежных средств нет взаимосвязи(корреляции)\n",
    "\n",
    "<br><b>H1</b>: Семейный статус влияет, вернет ли чеовек долг (т.е. между семейным статусом и целевым индикатором возврата / невозврата денежных есть взаимосвязь(корреляция). (двусторонняя альтернатива)"
   ]
  },
  {
   "cell_type": "code",
   "execution_count": 66,
   "metadata": {},
   "outputs": [
    {
     "data": {
      "text/html": [
       "<div>\n",
       "<style scoped>\n",
       "    .dataframe tbody tr th:only-of-type {\n",
       "        vertical-align: middle;\n",
       "    }\n",
       "\n",
       "    .dataframe tbody tr th {\n",
       "        vertical-align: top;\n",
       "    }\n",
       "\n",
       "    .dataframe thead th {\n",
       "        text-align: right;\n",
       "    }\n",
       "</style>\n",
       "<table border=\"1\" class=\"dataframe\">\n",
       "  <thead>\n",
       "    <tr style=\"text-align: right;\">\n",
       "      <th>default</th>\n",
       "      <th>0</th>\n",
       "      <th>1</th>\n",
       "    </tr>\n",
       "    <tr>\n",
       "      <th>MARRIAGE</th>\n",
       "      <th></th>\n",
       "      <th></th>\n",
       "    </tr>\n",
       "  </thead>\n",
       "  <tbody>\n",
       "    <tr>\n",
       "      <th>0</th>\n",
       "      <td>49</td>\n",
       "      <td>5</td>\n",
       "    </tr>\n",
       "    <tr>\n",
       "      <th>1</th>\n",
       "      <td>10453</td>\n",
       "      <td>3206</td>\n",
       "    </tr>\n",
       "    <tr>\n",
       "      <th>2</th>\n",
       "      <td>12623</td>\n",
       "      <td>3341</td>\n",
       "    </tr>\n",
       "    <tr>\n",
       "      <th>3</th>\n",
       "      <td>239</td>\n",
       "      <td>84</td>\n",
       "    </tr>\n",
       "  </tbody>\n",
       "</table>\n",
       "</div>"
      ],
      "text/plain": [
       "default       0     1\n",
       "MARRIAGE             \n",
       "0            49     5\n",
       "1         10453  3206\n",
       "2         12623  3341\n",
       "3           239    84"
      ]
     },
     "execution_count": 66,
     "metadata": {},
     "output_type": "execute_result"
    }
   ],
   "source": [
    "table_MAR_def=pd.crosstab(DATA_.MARRIAGE, DATA_.default)\n",
    "table_MAR_def\n"
   ]
  },
  {
   "cell_type": "code",
   "execution_count": 67,
   "metadata": {},
   "outputs": [
    {
     "name": "stdout",
     "output_type": "stream",
     "text": [
      "коэффициент Краммера =  0.034478203662766466\n",
      "p_value =  8.825862457577375e-08\n"
     ]
    }
   ],
   "source": [
    "chi2_M, p_value_M, n_dof_M, expected_values_M= chi2_stat=scipy.stats.chi2_contingency(table_MAR_def)\n",
    "n=table_MAR_def.sum().sum()\n",
    "min_from_shape=min(table_MAR_def.shape[0],table_MAR_def.shape[1])\n",
    "V_Krammer_M=np.sqrt(chi2_M/(n*(min_from_shape-1)))\n",
    "print ('коэффициент Краммера = ',V_Krammer_M)\n",
    "print ('p_value = ',p_value_M)"
   ]
  },
  {
   "cell_type": "markdown",
   "metadata": {},
   "source": [
    "проверим соответствие условию применимости критерия Хи-квадрат\n",
    "1. n>=40\n",
    "2. expected_values [i][j] < 5 не более, чем в 20% ячеек"
   ]
  },
  {
   "cell_type": "code",
   "execution_count": 68,
   "metadata": {},
   "outputs": [
    {
     "data": {
      "text/plain": [
       "30000"
      ]
     },
     "execution_count": 68,
     "metadata": {},
     "output_type": "execute_result"
    }
   ],
   "source": [
    "n"
   ]
  },
  {
   "cell_type": "code",
   "execution_count": 69,
   "metadata": {},
   "outputs": [
    {
     "data": {
      "text/plain": [
       "array([[4.20552000e+01, 1.19448000e+01],\n",
       "       [1.06376292e+04, 3.02137080e+03],\n",
       "       [1.24327632e+04, 3.53123680e+03],\n",
       "       [2.51552400e+02, 7.14476000e+01]])"
      ]
     },
     "execution_count": 69,
     "metadata": {},
     "output_type": "execute_result"
    }
   ],
   "source": [
    "expected_values_M"
   ]
  },
  {
   "cell_type": "code",
   "execution_count": 70,
   "metadata": {},
   "outputs": [
    {
     "name": "stdout",
     "output_type": "stream",
     "text": [
      "ячейки, где ожидаемое значение ниже 5- []\n",
      "8\n",
      "в 0.0 % ячеек ожидаемое количество элементов меньше 5\n"
     ]
    }
   ],
   "source": [
    "\n",
    "print ('ячейки, где ожидаемое значение ниже 5-',expected_values_M[expected_values_M<5])\n",
    "print (expected_values_M.shape[0]*expected_values_M.shape[1])\n",
    "print ('в',round ( 0/(expected_values_M.shape[0]*expected_values_M.shape[1])*100, 2), '% ячеек ожидаемое количество элементов меньше 5')"
   ]
  },
  {
   "cell_type": "markdown",
   "metadata": {},
   "source": [
    "### Вывод 1\n",
    "\n",
    "С помощью критерия Хи-Квадрат мы получили значение коэф. V-Краммера = 0.034 с уровнем значимости p_value = 8.8e-08, следовательно мы уверенно отвергаем 0-ую гипотезу в пользу альтернативной, и делаем вывод, что полученный коэф. Краммера значимо отличается от 0, что указывает на <b>статистически значимую корреляцию</b> между семейным статусом и вовратом или невовзратом денежных средств.\n",
    "\n",
    "Т.е. семейный статус связан с индикатором дефолта статистически значимо, мера связи - коэф. V Крамера = 0.034. Коэф. крамера имеет малое значение, находится близко к левой границе, которая равна 0 и соответствует отсутствию взаимосвязи между факторами, следовательно делаем вывод, что связь слабая."
   ]
  },
  {
   "cell_type": "markdown",
   "metadata": {},
   "source": [
    "### Задание №5\n",
    "\n",
    "Возраст (AGE): Относительно двух групп людей вернувших и не вернувших кредит проверьте следующие гипотезы: a) о равенстве медианных значений возрастов людей b) о равенстве распределений с помощью одного из подходящих непараметрических критериев проверки равенства средних. Значимы ли полученные результаты с практической точки зрения ?\n",
    "\n",
    "### Задача 5 а"
   ]
  },
  {
   "cell_type": "markdown",
   "metadata": {},
   "source": [
    "#### Проверка гипотез\n",
    "<br>a) о равенстве медианных значений возраста относительно двух групп людей вернувших и не вернувших кредит"
   ]
  },
  {
   "cell_type": "code",
   "execution_count": 71,
   "metadata": {},
   "outputs": [
    {
     "data": {
      "text/html": [
       "<div>\n",
       "<style scoped>\n",
       "    .dataframe tbody tr th:only-of-type {\n",
       "        vertical-align: middle;\n",
       "    }\n",
       "\n",
       "    .dataframe tbody tr th {\n",
       "        vertical-align: top;\n",
       "    }\n",
       "\n",
       "    .dataframe thead th {\n",
       "        text-align: right;\n",
       "    }\n",
       "</style>\n",
       "<table border=\"1\" class=\"dataframe\">\n",
       "  <thead>\n",
       "    <tr style=\"text-align: right;\">\n",
       "      <th></th>\n",
       "      <th>AGE</th>\n",
       "    </tr>\n",
       "  </thead>\n",
       "  <tbody>\n",
       "    <tr>\n",
       "      <th>count</th>\n",
       "      <td>30000.000000</td>\n",
       "    </tr>\n",
       "    <tr>\n",
       "      <th>mean</th>\n",
       "      <td>35.485500</td>\n",
       "    </tr>\n",
       "    <tr>\n",
       "      <th>std</th>\n",
       "      <td>9.217904</td>\n",
       "    </tr>\n",
       "    <tr>\n",
       "      <th>min</th>\n",
       "      <td>21.000000</td>\n",
       "    </tr>\n",
       "    <tr>\n",
       "      <th>25%</th>\n",
       "      <td>28.000000</td>\n",
       "    </tr>\n",
       "    <tr>\n",
       "      <th>50%</th>\n",
       "      <td>34.000000</td>\n",
       "    </tr>\n",
       "    <tr>\n",
       "      <th>75%</th>\n",
       "      <td>41.000000</td>\n",
       "    </tr>\n",
       "    <tr>\n",
       "      <th>max</th>\n",
       "      <td>79.000000</td>\n",
       "    </tr>\n",
       "  </tbody>\n",
       "</table>\n",
       "</div>"
      ],
      "text/plain": [
       "                AGE\n",
       "count  30000.000000\n",
       "mean      35.485500\n",
       "std        9.217904\n",
       "min       21.000000\n",
       "25%       28.000000\n",
       "50%       34.000000\n",
       "75%       41.000000\n",
       "max       79.000000"
      ]
     },
     "execution_count": 71,
     "metadata": {},
     "output_type": "execute_result"
    }
   ],
   "source": [
    "DATA_[['AGE']].describe()"
   ]
  },
  {
   "cell_type": "code",
   "execution_count": 72,
   "metadata": {},
   "outputs": [
    {
     "name": "stdout",
     "output_type": "stream",
     "text": [
      "(23364,)\n",
      "(6636,)\n"
     ]
    }
   ],
   "source": [
    "data_age_0=DATA_.loc[DATA_.default==0, 'AGE']\n",
    "print (data_age_0.shape)\n",
    "data_age_1=DATA_.loc[DATA_.default==1, 'AGE']\n",
    "print (data_age_1.shape)"
   ]
  },
  {
   "cell_type": "code",
   "execution_count": 73,
   "metadata": {},
   "outputs": [
    {
     "data": {
      "image/png": "[encoded data removed]",
      "text/plain": [
       "<Figure size 1008x432 with 2 Axes>"
      ]
     },
     "metadata": {
      "needs_background": "light"
     },
     "output_type": "display_data"
    }
   ],
   "source": [
    "pylab.figure(figsize=(14,6))\n",
    "\n",
    "pylab.subplot(1,2,1)\n",
    "pylab.grid()\n",
    "pylab.hist(data_age_0,color = 'r')\n",
    "pylab.xlabel('AGE')\n",
    "pylab.ylabel('people')\n",
    "pylab.title('Распределение '+'\\n'+'лимита среди вернувших кредит')\n",
    "\n",
    "pylab.subplot(1,2,2)\n",
    "pylab.grid()\n",
    "pylab.hist(data_age_1, color = 'b')\n",
    "pylab.xlabel('AGE')\n",
    "pylab.ylabel('people')\n",
    "pylab.title('Распределение '+'\\n'+'лимита среди не вернувших кредит')\n",
    "\n",
    "pylab.show()"
   ]
  },
  {
   "cell_type": "code",
   "execution_count": 74,
   "metadata": {},
   "outputs": [
    {
     "data": {
      "image/png": "[encoded data removed]",
      "text/plain": [
       "<Figure size 1152x504 with 2 Axes>"
      ]
     },
     "metadata": {
      "needs_background": "light"
     },
     "output_type": "display_data"
    }
   ],
   "source": [
    "pylab.figure(figsize(16,7))\n",
    "pylab.subplot(121)\n",
    "scipy.stats.probplot(data_age_0,plot=pylab)\n",
    "pylab.subplot(122)\n",
    "scipy.stats.probplot(data_age_1,plot=pylab)\n",
    "pylab.show()"
   ]
  },
  {
   "cell_type": "code",
   "execution_count": 75,
   "metadata": {},
   "outputs": [
    {
     "name": "stdout",
     "output_type": "stream",
     "text": [
      "Shapiro-Wilk normality test, W-statistic: 0.980914, p-value: 0.000000\n",
      "Shapiro-Wilk normality test, W-statistic: 0.975410, p-value: 0.000000\n"
     ]
    },
    {
     "name": "stderr",
     "output_type": "stream",
     "text": [
      "C:\\Users\\hadjd\\Anaconda2\\envs\\p37\\lib\\site-packages\\scipy\\stats\\morestats.py:1309: UserWarning: p-value may not be accurate for N > 5000.\n",
      "  warnings.warn(\"p-value may not be accurate for N > 5000.\")\n"
     ]
    }
   ],
   "source": [
    "print (\"Shapiro-Wilk normality test, W-statistic: %f, p-value: %f\" % stats.shapiro(np.log(data_age_0)))\n",
    "print (\"Shapiro-Wilk normality test, W-statistic: %f, p-value: %f\" % stats.shapiro(np.log(data_age_1)))"
   ]
  },
  {
   "cell_type": "markdown",
   "metadata": {},
   "source": [
    "По распределениям признака в каждой группе видно, что оно отличается от нормального.\n",
    "Графики QQ-plot и проверка критерием Шапиро-Уилака подтвержает отклонение распределений от нормального.\n"
   ]
  },
  {
   "cell_type": "markdown",
   "metadata": {},
   "source": [
    "\n",
    "Проверим гипотезу\n",
    "\n",
    "$H0$: медианные значения возраста людей в первой и второй группах равны\n",
    "\n",
    "$H1$: медианные значения возраста людей в первой и второй группах не равны (двухстороння альетрантива)"
   ]
  },
  {
   "cell_type": "code",
   "execution_count": 76,
   "metadata": {},
   "outputs": [
    {
     "name": "stdout",
     "output_type": "stream",
     "text": [
      "34.0\n",
      "34.0\n"
     ]
    }
   ],
   "source": [
    "print (np.median(data_age_0))\n",
    "print (np.median(data_age_1))"
   ]
  },
  {
   "cell_type": "markdown",
   "metadata": {},
   "source": [
    "интервальные оценки медиан с помощью bootstrap"
   ]
  },
  {
   "cell_type": "code",
   "execution_count": 77,
   "metadata": {},
   "outputs": [
    {
     "name": "stdout",
     "output_type": "stream",
     "text": [
      "95% доверительный интервал для медианной оценки кредитного лимита для 1ой группы людей: [34. 34.]\n",
      "95% доверительный интервал для медианной оценки кредитного лимита для 2ой группы людей: [34. 34.]\n"
     ]
    }
   ],
   "source": [
    "np.random.seed(0)\n",
    "\n",
    "data_age_0_median_scores = list(map(np.median, get_bootstrap_samples(data_age_0.values, 10000)))\n",
    "data_age_1_median_scores = list(map(np.median, get_bootstrap_samples(data_age_1.values, 10000)))\n",
    "\n",
    "print(\"95% доверительный интервал для медианной оценки кредитного лимита для 1ой группы людей:\",\n",
    "      stat_intervals(data_age_0_median_scores, 0.05) )\n",
    "print(\"95% доверительный интервал для медианной оценки кредитного лимита для 2ой группы людей:\",  \n",
    "      stat_intervals(data_age_0_median_scores, 0.05))"
   ]
  },
  {
   "cell_type": "markdown",
   "metadata": {},
   "source": [
    "точечная оценка разницы медиан"
   ]
  },
  {
   "cell_type": "code",
   "execution_count": 78,
   "metadata": {},
   "outputs": [
    {
     "name": "stdout",
     "output_type": "stream",
     "text": [
      "разница между медианами: 0.0\n"
     ]
    }
   ],
   "source": [
    "print(\"разница между медианами:\", np.median(data_age_0) - np.median(data_age_1))"
   ]
  },
  {
   "cell_type": "markdown",
   "metadata": {},
   "source": [
    "интервальная оценка разности медиан с помощью bootstrap"
   ]
  },
  {
   "cell_type": "code",
   "execution_count": 79,
   "metadata": {},
   "outputs": [
    {
     "name": "stdout",
     "output_type": "stream",
     "text": [
      "95% доверительный интервал для разности медиан: [-1.  0.]\n"
     ]
    }
   ],
   "source": [
    "delta_median_scores_age = list(map(lambda x: x[0] - x[1], zip(data_age_0_median_scores, data_age_1_median_scores)))\n",
    "print(\"95% доверительный интервал для разности медиан:\",  stat_intervals(delta_median_scores_age, 0.05))"
   ]
  },
  {
   "cell_type": "markdown",
   "metadata": {},
   "source": [
    "### Вывод 1:\n",
    "Интервальные оценки медиан полностью совпадают, а интервальня оценка разности медиан включает 0, следовательно мы не можем отклонить 0-ую гипотезу на уровне значимости 0.05 в пользу альтернативной."
   ]
  },
  {
   "cell_type": "markdown",
   "metadata": {},
   "source": [
    "Воспользуемся ранговым критерием. Т.к. выборки независимые, то используем критерий\n",
    "Манна-Уитни."
   ]
  },
  {
   "cell_type": "markdown",
   "metadata": {},
   "source": [
    "Проверим гипотезу\n",
    "\n",
    "$H0$: медианные значения возраста людей в первой и второй группах равны\n",
    "\n",
    "$H1$: медианные значения возраста людей в первой и второй группах не равны (двухстороння альетрантива)"
   ]
  },
  {
   "cell_type": "code",
   "execution_count": 80,
   "metadata": {},
   "outputs": [
    {
     "data": {
      "text/plain": [
       "MannwhitneyuResult(statistic=76966879.5, pvalue=0.1862517717449308)"
      ]
     },
     "execution_count": 80,
     "metadata": {},
     "output_type": "execute_result"
    }
   ],
   "source": [
    "stats.mannwhitneyu(data_age_0, data_age_1)"
   ]
  },
  {
   "cell_type": "markdown",
   "metadata": {},
   "source": [
    "### Вывод 2\n",
    "Критерий Манна-Уитни дает уровень значимости p=0.186, выборочная разность медиан = 0,\n",
    "95% доверительный интервал для разности медиан равен [-1.  0.], 0-ая гипотеза о равнестве\n",
    "медиан не отклоняется на уровне значисоит 0.05."
   ]
  },
  {
   "cell_type": "markdown",
   "metadata": {},
   "source": [
    "### Задача 5 б"
   ]
  },
  {
   "cell_type": "markdown",
   "metadata": {},
   "source": [
    "#### Проверка гипотез\n",
    "<br>a) о равенстве распределений с помощью одного из подходящих непараметрических критериев проверки равенства средних."
   ]
  },
  {
   "cell_type": "markdown",
   "metadata": {},
   "source": [
    "### Перестановочный критерий"
   ]
  },
  {
   "cell_type": "markdown",
   "metadata": {},
   "source": [
    "$H_0\\colon F_{X_1}(x) = F_{X_2}(x)$\n",
    "\n",
    "$H_1\\colon F_{X_1}(x) = F_{X_2}(x + \\Delta), \\Delta\\neq 0$"
   ]
  },
  {
   "cell_type": "markdown",
   "metadata": {},
   "source": [
    "<br><b>H0</b>: функции распределения из которых были получены выборки для 1ой и 2ой группы полностю совпадают\n",
    "<br><b>H1</b>: функции распределения из которых были получены выборки для 1ой и 2ой группы совпадают с точностбью до аддитивного параметра дельта, который не равен 0. (т.е. распределения сдвинуты друг относительно друга, следовательно не равны друг другу)"
   ]
  },
  {
   "cell_type": "code",
   "execution_count": 81,
   "metadata": {},
   "outputs": [],
   "source": [
    "def permutation_t_stat_ind(sample1, sample2):\n",
    "    return np.mean(sample1) - np.mean(sample2)"
   ]
  },
  {
   "cell_type": "code",
   "execution_count": 82,
   "metadata": {},
   "outputs": [],
   "source": [
    "def get_random_combinations(n1, n2, max_combinations):\n",
    "    index = list(range(n1 + n2))\n",
    "    indices = set([tuple(index)])\n",
    "    for i in range(max_combinations - 1):\n",
    "        np.random.shuffle(index)\n",
    "        indices.add(tuple(index))\n",
    "    return [(index[:n1], index[n1:]) for index in indices]"
   ]
  },
  {
   "cell_type": "code",
   "execution_count": 83,
   "metadata": {},
   "outputs": [],
   "source": [
    "def permutation_zero_dist_ind(sample1, sample2, max_combinations = None):\n",
    "    joined_sample = np.hstack((sample1, sample2))\n",
    "    n1 = len(sample1)\n",
    "    n = len(joined_sample)\n",
    "    \n",
    "    if max_combinations:\n",
    "        indices = get_random_combinations(n1, len(sample2), max_combinations)\n",
    "    else:\n",
    "        indices = [(list(index), list(filter(lambda i: i not in index, range(n)))) \\\n",
    "                    for index in itertools.combinations(range(n), n1)]\n",
    "    \n",
    "    distr = [joined_sample[list(i[0])].mean() - joined_sample[list(i[1])].mean() \\\n",
    "             for i in indices]\n",
    "    return distr"
   ]
  },
  {
   "cell_type": "code",
   "execution_count": 84,
   "metadata": {},
   "outputs": [
    {
     "data": {
      "image/png": "[encoded data removed]",
      "text/plain": [
       "<Figure size 1152x504 with 1 Axes>"
      ]
     },
     "metadata": {
      "needs_background": "light"
     },
     "output_type": "display_data"
    }
   ],
   "source": [
    "pylab.hist(permutation_zero_dist_ind(data_age_0, data_age_1, max_combinations = 10000),bins=10)\n",
    "pylab.title('0-ое распределение перестановочного критерия')\n",
    "pylab.xlabel('Статистика перестановочного критерия - выборочная разность средних')\n",
    "pylab.ylabel('Частота')\n",
    "pylab.show()"
   ]
  },
  {
   "cell_type": "code",
   "execution_count": 85,
   "metadata": {},
   "outputs": [],
   "source": [
    "def permutation_test(sample, mean, max_permutations = None, alternative = 'two-sided'):\n",
    "    if alternative not in ('two-sided', 'less', 'greater'):\n",
    "        raise ValueError(\"alternative not recognized\\n\"\n",
    "                         \"should be 'two-sided', 'less' or 'greater'\")\n",
    "    \n",
    "    t_stat = permutation_t_stat_ind(sample, mean)\n",
    "    \n",
    "    zero_distr = permutation_zero_dist_ind(sample, mean, max_permutations)\n",
    "    \n",
    "    if alternative == 'two-sided':\n",
    "        return sum([1. if abs(x) >= abs(t_stat) else 0. for x in zero_distr]) / len(zero_distr)\n",
    "    \n",
    "    if alternative == 'less':\n",
    "        return sum([1. if x <= t_stat else 0. for x in zero_distr]) / len(zero_distr)\n",
    "\n",
    "    if alternative == 'greater':\n",
    "        return sum([1. if x >= t_stat else 0. for x in zero_distr]) / len(zero_distr)"
   ]
  },
  {
   "cell_type": "code",
   "execution_count": 86,
   "metadata": {},
   "outputs": [
    {
     "name": "stdout",
     "output_type": "stream",
     "text": [
      "p-value: 0.015300\n"
     ]
    }
   ],
   "source": [
    "print(\"p-value: %f\" % permutation_test(data_age_0, data_age_1, max_permutations = 10000))"
   ]
  },
  {
   "cell_type": "markdown",
   "metadata": {},
   "source": [
    "#### Вывод: \n",
    "Уровень значимости равен 0.0153, следовательно мы отвергаем 0-ую гипотзу о равенстве распределений в пользу альтернативной."
   ]
  },
  {
   "cell_type": "code",
   "execution_count": null,
   "metadata": {},
   "outputs": [],
   "source": []
  }
 ],
 "metadata": {
  "kernelspec": {
   "display_name": "Python 3",
   "language": "python",
   "name": "python3"
  },
  "language_info": {
   "codemirror_mode": {
    "name": "ipython",
    "version": 3
   },
   "file_extension": ".py",
   "mimetype": "text/x-python",
   "name": "python",
   "nbconvert_exporter": "python",
   "pygments_lexer": "ipython3",
   "version": "3.7.4"
  }
 },
 "nbformat": 4,
 "nbformat_minor": 2
}
